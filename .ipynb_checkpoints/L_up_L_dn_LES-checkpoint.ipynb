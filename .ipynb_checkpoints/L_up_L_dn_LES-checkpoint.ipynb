{
 "cells": [
  {
   "cell_type": "code",
   "execution_count": 7,
   "metadata": {},
   "outputs": [],
   "source": [
    "import matplotlib.pyplot as plt # plotting\n",
    "import numpy as np              # working with number arrays etc.\n",
    "from netCDF4 import Dataset     # reading netcdf files\n",
    "import pandas as pd\n",
    "path_les=\"/Users/amrapallig/run/cvmix_analysis/les/\"\n"
   ]
  },
  {
   "cell_type": "code",
   "execution_count": 8,
   "metadata": {},
   "outputs": [],
   "source": [
    "lenup_dn_maxw2=np.zeros(19)"
   ]
  },
  {
   "cell_type": "code",
   "execution_count": 9,
   "metadata": {},
   "outputs": [],
   "source": [
    "myfilec1=  path_les+\"Cooling1.nc\" #(120, 256)\n",
    "#dict_keys(['zm', 'Time', 'zt', 'dt', 'u2w', 'ws2', 'wt2', 'v2w', 'wb', 'uw2', 'K', 'w2press', 'vw2', 'v2', 'wt', 'ws', 'w2', 'rho', 'vw', 'PE', 'vvel', 'temp', 'wvel', 'uw', 't2', 'eps', 'u2', 'w2t', 'uvel', 'w4', 'w2s', 'H', 's2', 'w3', 'salt', 'buoy'])\n",
    "les_c1 = Dataset(myfilec1, mode='r') \n",
    "temp_les_c1=les_c1.variables['temp']\n",
    "zm_les_c1=les_c1.variables['zm']\n",
    "wt_les_c1=les_c1.variables['wt']\n",
    "w2_les_c1=les_c1.variables['w2']\n",
    "w2t_les_c1=les_c1.variables['w2t']\n",
    "eps_les_c1=les_c1.variables['eps']\n",
    "rho_les_c1=les_c1.variables['rho']\n",
    "PE_les_c1=les_c1.variables['PE']\n",
    "t2_les_c1=les_c1.variables['t2']\n",
    "wb_les_c1=les_c1.variables['wb']\n",
    "time_les_c1=les_c1.variables['Time']\n",
    "zt_les_c1=les_c1.variables['zt']\n",
    "dt_les_c1=les_c1.variables['dt']\n",
    "u2w_les_c1=les_c1.variables['u2w']\n",
    "v2w_les_c1=les_c1.variables['v2w']\n",
    "uw2_les_c1=les_c1.variables['uw2']\n",
    "K_les_c1=les_c1.variables['K']\n",
    "w2press_les_c1=les_c1.variables['w2press']\n",
    "vw2_les_c1=les_c1.variables['vw2']\n",
    "v2_les_c1=les_c1.variables['v2']\n",
    "vw_les_c1=les_c1.variables['vw']\n",
    "uvel_les_c1=les_c1.variables['uvel']\n",
    "vvel_les_c1=les_c1.variables['vvel']\n",
    "wvel_les_c1=les_c1.variables['wvel']\n",
    "uw_les_c1=les_c1.variables['uw']\n",
    "u2_les_c1=les_c1.variables['u2']\n",
    "w4_les_c1=les_c1.variables['w4']\n",
    "H_les_c1=les_c1.variables['H']\n",
    "w3_les_c1=les_c1.variables['w3']\n",
    "buoy_les_c1=les_c1.variables['buoy']\n",
    "salt_les_c1=les_c1.variables['salt']\n",
    "s2_les_c1=les_c1.variables['s2']\n",
    "ws_les_c1=les_c1.variables['ws']"
   ]
  },
  {
   "cell_type": "code",
   "execution_count": 10,
   "metadata": {},
   "outputs": [
    {
     "data": {
      "text/plain": [
       "(256,)"
      ]
     },
     "execution_count": 10,
     "metadata": {},
     "output_type": "execute_result"
    }
   ],
   "source": [
    "d=24 # 4th day data\n",
    "m=1\n",
    "hr=3  # 6 hr avg data\n",
    "\n",
    "u2=np.mean(u2_les_c1[d-hr:d+hr,:],axis=0)\n",
    "v2=np.mean(v2_les_c1[d-hr:d+hr,:],axis=0)\n",
    "w2=np.mean(w2_les_c1[d-hr:d+hr,:],axis=0)\n",
    "w3=np.mean(w3_les_c1[d-hr:d+hr,:],axis=0)\n",
    "wt=np.mean(wt_les_c1[d-hr:d+hr,:],axis=0)\n",
    "ws=np.mean(ws_les_c1[d-hr:d+hr,:],axis=0)\n",
    "w=np.mean(ws_les_c1[d-hr:d+hr,:],axis=0)\n",
    "wb=np.mean(wb_les_c1[d-hr:d+hr,:],axis=0)\n",
    "temp=np.mean(temp_les_c1[d-hr:d+hr,:],axis=0)\n",
    "salt=np.mean(salt_les_c1[d-hr:d+hr,:],axis=0)\n",
    "zm=(zm_les_c1[:])\n",
    "\n",
    "#rho=np.mean(rho_les_c1[d-3:d+3,:],axis=0)\n",
    "sw=w3/((w2)**(3/2))\n",
    "sigma=0.5-(sw/(2*(4+sw**2)**0.5))\n",
    "Mc=(m*w2**0.5)/(4+sw**2)**0.5\n",
    "wumwd=Mc/m*(sigma*(1-sigma))\n",
    "tumd =wt / (1.0E-12 + Mc)\n",
    "sumd= ws / (1.0E-12+ Mc)\n",
    "\n",
    "zm.shape"
   ]
  },
  {
   "cell_type": "code",
   "execution_count": 11,
   "metadata": {},
   "outputs": [
    {
     "name": "stderr",
     "output_type": "stream",
     "text": [
      "<ipython-input-11-3ca5e69b25e9>:9: UserWarning: Warning: converting a masked element to nan.\n",
      "  Tup = temp[1:]+ (1- np.array(sav))*tudav\n",
      "<ipython-input-11-3ca5e69b25e9>:10: UserWarning: Warning: converting a masked element to nan.\n",
      "  Tdo = temp[1:] - np.array(sav)*tudav\n",
      "<ipython-input-11-3ca5e69b25e9>:13: UserWarning: Warning: converting a masked element to nan.\n",
      "  Sup = salt[1:]+ (1- np.array(sav))*sudav\n",
      "<ipython-input-11-3ca5e69b25e9>:14: UserWarning: Warning: converting a masked element to nan.\n",
      "  Sdo = salt[1:] - np.array(sav)*sudav\n"
     ]
    }
   ],
   "source": [
    "g=9.81\n",
    "alphaT=2*10**(-4)\n",
    "betaS=8*10**(-4)\n",
    "tke = 0.5*(u2 + v2 + w2)\n",
    "B = -g*(-alphaT*(temp - 15.0) + betaS*(salt - 35))\n",
    "\n",
    "sav = [(sigma[i]+sigma[i+1])/2 for i in range(0, len(sigma)-1, 1)]\n",
    "tudav =[(tumd[i]+tumd[i+1])/2 for i in range(0, len(tumd)-1, 1)]\n",
    "Tup = temp[1:]+ (1- np.array(sav))*tudav\n",
    "Tdo = temp[1:] - np.array(sav)*tudav\n",
    "\n",
    "sudav =[(sumd[i]+sumd[i+1])/2 for i in range(0, len(tumd)-1, 1)]\n",
    "Sup = salt[1:]+ (1- np.array(sav))*sudav\n",
    "Sdo = salt[1:] - np.array(sav)*sudav\n",
    "\n",
    "Bup = -g*(-alphaT*(Tup - 15.0) + betaS*(Sup - 35.0))\n",
    "Bdo = -g*(-alphaT*(Tdo - 15.0) + betaS*(Sdo - 35.0))\n",
    "\n",
    "BupEdge = [(Bup[i]+Bup[i-1])/2 for i in range(1, len(Bup), 1)]\n",
    "BdoEdge =[(Bdo[i]+Bdo[i-1])/2 for i in range(1, len(Bdo), 1)]\n",
    "\n",
    "BupEdge.insert(0,BupEdge[1])\n",
    "BdoEdge.insert(0,BdoEdge[1])\n",
    "BupEdge.insert(len(BupEdge),BupEdge[-1])\n",
    "BdoEdge.insert(len(BdoEdge),BdoEdge[-1])\n",
    "\n",
    "lenup=np.zeros(len(BupEdge))\n",
    "for k in np.arange(len(BupEdge)-2):\n",
    "    k=k+1\n",
    "    ij=k\n",
    "    sumv=0\n",
    "    lenup[k]=0\n",
    "    while ((sumv<=tke[k]) & (ij<len(BupEdge)) ):\n",
    "        sumv = sumv + (BupEdge[k] - Bup[ij])*(zm[ij-1]-zm[ij])\n",
    "        lenup[k]=lenup[k]+np.abs(zm[ij-1]-zm[ij])\n",
    "        ij = ij + 1\n",
    "        #print (ij,k,sumv,tke[k])     \n",
    "        if (sumv>tke[k]): \n",
    "            ij = ij - 1\n",
    "            s1 = sumv\n",
    "            z1 = zm[ij]\n",
    "            zV = zm[ij-1]\n",
    "            sumv = sumv - (BupEdge[k]  - Bup[ij])*(zm[ij-1]-zm[ij])\n",
    "            lenup[k] = lenup[k]  - np.abs(zm[ij]-zm[ij+1])\n",
    "            lenup[k]  = np.maximum(0.55,lenup[k]  + np.abs((z1-zV)/(s1 - sumv)*(tke[k] -sumv)))\n",
    "            break\n",
    "#print(lenup)            \n",
    "\n",
    "lendn=np.zeros(len(BdoEdge))\n",
    "for k in np.arange(len(BdoEdge)-2):\n",
    "    k=k+1\n",
    "    ij=k\n",
    "    sumv=0\n",
    "    lendn[k]=0\n",
    "    while ((sumv<=tke[k]) & (ij>0) ):\n",
    "        sumv = sumv - (BdoEdge[k] - Bdo[ij-1])*(zm[ij-1]-zm[ij])\n",
    "        lendn[k]=lendn[k]+np.abs(zm[ij-1]-zm[ij])\n",
    "        ij = ij - 1\n",
    "        #print (ij,k,sumv,tke[k])     \n",
    "        if (sumv>tke[k]): \n",
    "            ij = ij + 1\n",
    "            s1 = sumv\n",
    "            z1 = zm[ij]\n",
    "            zV = zm[ij-1]\n",
    "            sumv = sumv + (BdoEdge[k]  - Bdo[ij-1])*(zm[ij-1]-zm[ij])\n",
    "            lendn[k] = lendn[k]  - np.abs(zm[ij-1]-zm[ij])\n",
    "            lendn[k]  = np.maximum(0.55,lendn[k]  + ((z1-zV)/(s1 - sumv)*(tke[k] -sumv)))\n",
    "            break\n",
    "#print(lenup)            "
   ]
  },
  {
   "cell_type": "code",
   "execution_count": 12,
   "metadata": {},
   "outputs": [
    {
     "name": "stderr",
     "output_type": "stream",
     "text": [
      "<ipython-input-12-4ac69534b215>:1: RuntimeWarning: invalid value encountered in true_divide\n",
      "  l_ratio=lenup/lendn\n"
     ]
    },
    {
     "data": {
      "text/plain": [
       "2.132728483649307"
      ]
     },
     "execution_count": 12,
     "metadata": {},
     "output_type": "execute_result"
    }
   ],
   "source": [
    "l_ratio=lenup/lendn\n",
    "ind=np.where(lenup==0.55)\n",
    "indd=ind[0][0]\n",
    "zi=zm[indd]\n",
    "ind=np.where(np.round(zm/zi,1)==0.4)\n",
    "ind=ind[0][0]\n",
    "lup_ldn_les=l_ratio[ind]\n",
    "lup_ldn_les"
   ]
  },
  {
   "cell_type": "code",
   "execution_count": 13,
   "metadata": {},
   "outputs": [
    {
     "ename": "NameError",
     "evalue": "name 'length' is not defined",
     "output_type": "error",
     "traceback": [
      "\u001b[0;31m---------------------------------------------------------------------------\u001b[0m",
      "\u001b[0;31mNameError\u001b[0m                                 Traceback (most recent call last)",
      "\u001b[0;32m<ipython-input-13-29448fdbe8f2>\u001b[0m in \u001b[0;36m<module>\u001b[0;34m\u001b[0m\n\u001b[0;32m----> 1\u001b[0;31m \u001b[0mlength\u001b[0m\u001b[0;34m\u001b[0m\u001b[0;34m\u001b[0m\u001b[0m\n\u001b[0m",
      "\u001b[0;31mNameError\u001b[0m: name 'length' is not defined"
     ]
    }
   ],
   "source": [
    "length"
   ]
  },
  {
   "cell_type": "code",
   "execution_count": 14,
   "metadata": {},
   "outputs": [
    {
     "ename": "FileNotFoundError",
     "evalue": "[Errno 2] No such file or directory: 'lenup_dn_z_zi_p4_les.p'",
     "output_type": "error",
     "traceback": [
      "\u001b[0;31m---------------------------------------------------------------------------\u001b[0m",
      "\u001b[0;31mFileNotFoundError\u001b[0m                         Traceback (most recent call last)",
      "\u001b[0;32m<ipython-input-14-ac2d21942bad>\u001b[0m in \u001b[0;36m<module>\u001b[0;34m\u001b[0m\n\u001b[1;32m      1\u001b[0m \u001b[0;32mimport\u001b[0m \u001b[0m_pickle\u001b[0m \u001b[0;32mas\u001b[0m \u001b[0mpickle\u001b[0m\u001b[0;34m\u001b[0m\u001b[0;34m\u001b[0m\u001b[0m\n\u001b[1;32m      2\u001b[0m \u001b[0;34m\u001b[0m\u001b[0m\n\u001b[0;32m----> 3\u001b[0;31m \u001b[0mlenup_dn_z_zi_p4\u001b[0m\u001b[0;34m=\u001b[0m\u001b[0mpickle\u001b[0m\u001b[0;34m.\u001b[0m\u001b[0mload\u001b[0m\u001b[0;34m(\u001b[0m\u001b[0mopen\u001b[0m\u001b[0;34m(\u001b[0m\u001b[0;34m\"lenup_dn_z_zi_p4_les.p\"\u001b[0m\u001b[0;34m,\u001b[0m\u001b[0;34m\"rb\"\u001b[0m\u001b[0;34m)\u001b[0m\u001b[0;34m)\u001b[0m\u001b[0;34m\u001b[0m\u001b[0;34m\u001b[0m\u001b[0m\n\u001b[0m",
      "\u001b[0;31mFileNotFoundError\u001b[0m: [Errno 2] No such file or directory: 'lenup_dn_z_zi_p4_les.p'"
     ]
    }
   ],
   "source": [
    "import _pickle as pickle\n",
    "\n",
    "lenup_dn_z_zi_p4=pickle.load(open(\"lenup_dn_z_zi_p4_les.p\",\"rb\"))"
   ]
  },
  {
   "cell_type": "code",
   "execution_count": 29,
   "metadata": {},
   "outputs": [],
   "source": []
  },
  {
   "cell_type": "code",
   "execution_count": 1,
   "metadata": {},
   "outputs": [
    {
     "ename": "NameError",
     "evalue": "name 'plt' is not defined",
     "output_type": "error",
     "traceback": [
      "\u001b[0;31m---------------------------------------------------------------------------\u001b[0m",
      "\u001b[0;31mNameError\u001b[0m                                 Traceback (most recent call last)",
      "\u001b[0;32m<ipython-input-1-c3b3cdd1f378>\u001b[0m in \u001b[0;36m<module>\u001b[0;34m\u001b[0m\n\u001b[0;32m----> 1\u001b[0;31m \u001b[0mfig\u001b[0m\u001b[0;34m=\u001b[0m \u001b[0mplt\u001b[0m\u001b[0;34m.\u001b[0m\u001b[0mfigure\u001b[0m\u001b[0;34m(\u001b[0m\u001b[0mfigsize\u001b[0m\u001b[0;34m=\u001b[0m\u001b[0;34m(\u001b[0m\u001b[0;36m20\u001b[0m\u001b[0;34m,\u001b[0m\u001b[0;36m8\u001b[0m\u001b[0;34m)\u001b[0m\u001b[0;34m)\u001b[0m\u001b[0;34m\u001b[0m\u001b[0;34m\u001b[0m\u001b[0m\n\u001b[0m\u001b[1;32m      2\u001b[0m \u001b[0mf\u001b[0m\u001b[0;34m,\u001b[0m \u001b[0max\u001b[0m \u001b[0;34m=\u001b[0m \u001b[0mplt\u001b[0m\u001b[0;34m.\u001b[0m\u001b[0msubplots\u001b[0m\u001b[0;34m(\u001b[0m\u001b[0mfigsize\u001b[0m\u001b[0;34m=\u001b[0m\u001b[0;34m(\u001b[0m\u001b[0;36m7\u001b[0m\u001b[0;34m,\u001b[0m\u001b[0;36m5\u001b[0m\u001b[0;34m)\u001b[0m\u001b[0;34m)\u001b[0m\u001b[0;34m\u001b[0m\u001b[0;34m\u001b[0m\u001b[0m\n\u001b[1;32m      3\u001b[0m \u001b[0md\u001b[0m\u001b[0;34m=\u001b[0m\u001b[0;36m0\u001b[0m\u001b[0;34m\u001b[0m\u001b[0;34m\u001b[0m\u001b[0m\n\u001b[1;32m      4\u001b[0m \u001b[0mplt\u001b[0m\u001b[0;34m.\u001b[0m\u001b[0mplot\u001b[0m\u001b[0;34m(\u001b[0m\u001b[0md\u001b[0m\u001b[0;34m,\u001b[0m\u001b[0mlenup_dn_z_zi_p4\u001b[0m\u001b[0;34m[\u001b[0m\u001b[0md\u001b[0m\u001b[0;34m]\u001b[0m\u001b[0;34m,\u001b[0m\u001b[0;34m'ok'\u001b[0m\u001b[0;34m,\u001b[0m\u001b[0mmarkersize\u001b[0m\u001b[0;34m=\u001b[0m\u001b[0;36m10\u001b[0m\u001b[0;34m)\u001b[0m\u001b[0;34m\u001b[0m\u001b[0;34m\u001b[0m\u001b[0m\n\u001b[1;32m      5\u001b[0m \u001b[0md\u001b[0m\u001b[0;34m=\u001b[0m\u001b[0;36m1\u001b[0m\u001b[0;34m\u001b[0m\u001b[0;34m\u001b[0m\u001b[0m\n",
      "\u001b[0;31mNameError\u001b[0m: name 'plt' is not defined"
     ]
    }
   ],
   "source": [
    "fig= plt.figure(figsize=(20,8))\n",
    "f, ax = plt.subplots(figsize=(7,5))\n",
    "d=0\n",
    "plt.plot(d,lenup_dn_z_zi_p4[d],'ok',markersize=10)\n",
    "d=1\n",
    "plt.plot(d,lenup_dn_z_zi_p4[d],'ok',markersize=10)\n",
    "d=2\n",
    "plt.plot(d,lenup_dn_z_zi_p4[d],'ok',markersize=10)\n",
    "d=3\n",
    "plt.plot(d,lenup_dn_z_zi_p4[d],'ok',markersize=10)\n",
    "d=4\n",
    "plt.plot(d,lenup_dn_z_zi_p4[d],'ok',markersize=10)\n",
    "d=5\n",
    "plt.plot(d,lenup_dn_z_zi_p4[d],'ok',markersize=10)\n",
    "d=6\n",
    "plt.plot(d,lenup_dn_z_zi_p4[d],'ok',markersize=10)\n",
    "d=7\n",
    "plt.plot(d,lenup_dn_z_zi_p4[d],'ok',markersize=10)\n",
    "d=8\n",
    "plt.plot(d,lenup_dn_z_zi_p4[d],'ok',markersize=10) #s10\n",
    "d=9\n",
    "plt.plot(d,lenup_dn_z_zi_p4[d],'ok',markersize=10)  #s20\n",
    "d=10\n",
    "plt.plot(d,lenup_dn_z_zi_p4[d],'ok',markersize=10)\n",
    "d=11\n",
    "plt.plot(d,lenup_dn_z_zi_p4[d],'ok',markersize=10)\n",
    "d=12\n",
    "plt.plot(d,lenup_dn_z_zi_p4[d],'ok',markersize=10) #t4w\n",
    "d=13\n",
    "plt.plot(d,lenup_dn_z_zi_p4[d],'ok',markersize=10)\n",
    "d=14\n",
    "plt.plot(d,lenup_dn_z_zi_p4[d],'ok',markersize=10)\n",
    "d=15\n",
    "plt.plot(d,lenup_dn_z_zi_p4[d],'ok',markersize=10)\n",
    "d=16\n",
    "plt.plot(d,lenup_dn_z_zi_p4[d],'ok',markersize=10)\n",
    "d=17\n",
    "plt.plot(d,lenup_dn_z_zi_p4[d],'ok',markersize=10)\n",
    "d=18\n",
    "plt.plot(d,lenup_dn_z_zi_p4[d],'ok',markersize=10)\n",
    "\n",
    "\n",
    "\n",
    "\n",
    "plt.ylim(0,3)\n",
    "plt.ylabel('$L_{up}/L_{dn}$ $@z/z_i=0.4$',fontsize=15)\n",
    "#plt.xlabel('$cases(c1,c2,c4,c16,e1,e4)$',fontsize=10)\n",
    "\n",
    "x = ['c1', 'c2', 'c4','c16','e1','e4','w1','w2','w5','s1','s10','s20','t1w','t2w','t4w','t1s0','t1s1','t1s3','t1s15']\n",
    "l = [0 ,1, 2,3,4,5,6,7,8,9,10,11,12,13,14,15,16,17,18]\n",
    "#l=l[:]+1\n",
    "plt.plot([-1,20],[1.5,1.5],'--k')\n",
    "ax.set_xticks(l)\n",
    "ax.set_xticklabels(x,fontsize=15)\n",
    "for tick in ax.get_xticklabels():\n",
    "    tick.set_rotation(45)\n",
    "#plt.grid(True) \n",
    "plt.xlim(-1,20)\n",
    "plt.ylim(0,3)"
   ]
  },
  {
   "cell_type": "code",
   "execution_count": null,
   "metadata": {},
   "outputs": [],
   "source": []
  }
 ],
 "metadata": {
  "kernelspec": {
   "display_name": "Python 3",
   "language": "python",
   "name": "python3"
  },
  "language_info": {
   "codemirror_mode": {
    "name": "ipython",
    "version": 3
   },
   "file_extension": ".py",
   "mimetype": "text/x-python",
   "name": "python",
   "nbconvert_exporter": "python",
   "pygments_lexer": "ipython3",
   "version": "3.9.5"
  }
 },
 "nbformat": 4,
 "nbformat_minor": 4
}
