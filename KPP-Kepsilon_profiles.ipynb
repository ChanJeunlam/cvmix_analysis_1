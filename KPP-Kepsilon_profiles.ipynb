{
 "cells": [
  {
   "cell_type": "code",
   "execution_count": 1,
   "id": "f3794128",
   "metadata": {},
   "outputs": [],
   "source": [
    "import matplotlib.pyplot as plt # plotting\n",
    "import numpy as np              # working with number arrays etc.\n",
    "from netCDF4 import Dataset     # reading netcdf files\n",
    "from numpy import trapz         # for integration\n",
    "\n",
    "# all file paths: change according to file location\n",
    "path_les=\"/Users/amrapallig/run/cvmix_analysis/les/\"\n",
    "path_adc=\"/Users/amrapallig/Desktop/cvmix/adc/convection/\"\n",
    "path_kpp=\"/Users/amrapallig/run/cvmix_analysis/les/KPP-CVMix/\"\n",
    "path_ke=\"/Users/amrapallig/run/cvmix_analysis/les/K-EPSILON-SG/\""
   ]
  },
  {
   "cell_type": "code",
   "execution_count": 2,
   "id": "3e64825b",
   "metadata": {},
   "outputs": [],
   "source": [
    "\n",
    "# density calculation from given temp and salinity\n",
    "def density_eos(t,s):\n",
    "    density= 1026.0*(1.0-2e-4*(t-20)+8e-4*(s-35))\n",
    "    return density\n",
    "\n",
    "#rate of change of depth integrated potential energy calculation\n",
    "def pot_energy2(temperature_0,temperature_t,salinity_0,salinity_t,depth,dtdz,dsdz,t=95):\n",
    "    ind=np.where((depth)>-75)  ##plots are weird with, 5 m doing worse than 10m if whole depth 100m is selected\n",
    "                                ## thats why I am taking depth till -75\n",
    "    depth=depth[ind]\n",
    "    #for initial time\n",
    "    \n",
    "    # defined initial profiles as data saved for les and adc are from 1 hr and \n",
    "    # for kpp and kepsilon are from zero hr\n",
    "    #temp=20+dtdz*depth\n",
    "    #salt=35+dsdz*depth \n",
    "    #temp=temperature_0\n",
    "   # salt=salinity_0\n",
    "    temp=temperature_0[ind]\n",
    "    salt=salinity_0[ind]\n",
    "    density= density_eos(temp,salt)\n",
    "    # depth integrated potential energy PE=density*9.81*depth\n",
    "    area=trapz(density*9.81*depth,depth)\n",
    "    PE_0=area\n",
    "    #print(PE_0)\n",
    "    \n",
    "    #for final time\n",
    "    #temp=temperature_t\n",
    "    #salt=salinity_t\n",
    "    temp=temperature_t[ind]\n",
    "    salt=salinity_t[ind]\n",
    "    density= density_eos(temp,salt)\n",
    "    plt.plot(density,depth)\n",
    "    # depth integrated potential energy PE=density*9.81*depth\n",
    "    # area under PE\n",
    "    area=trapz(density*9.81*depth,depth)\n",
    "    PE_t=area\n",
    "    PE_rate_change=(PE_t-PE_0)/(3600*t)  # in Watt/m^2\n",
    "    #print(PE_t)\n",
    "    return (PE_rate_change)\n"
   ]
  },
  {
   "cell_type": "code",
   "execution_count": null,
   "id": "90ce23e6",
   "metadata": {},
   "outputs": [],
   "source": [
    "file_names = [*[f\"Cooling{x}\" for x in [1]], \n",
    "            #  *[f\"Evap{x}\" for x in [1, 4]],\n",
    "            #  *[f\"Strat{x}\" for x in [1, 10, 20]],\n",
    "            #  *[f\"T1S{x}\" for x in [0, 1, 3, 15]],\n",
    "             ]\n",
    "#datasets = [1, 10]"
   ]
  },
  {
   "cell_type": "code",
   "execution_count": null,
   "id": "51341d90",
   "metadata": {},
   "outputs": [],
   "source": [
    "t=380 #95 hr\n",
    "#t=360 #90 hr\n",
    "t1=t-1 #83 hr # 12 hr avg\n",
    "\n",
    "#kpp\n",
    "path_kpp=\"/Users/amrapallig/run/cvmix_analysis/les/KPP-CVMix/\"\n",
    "\n",
    "results_kpp = {}\n",
    "\n",
    "\n",
    "\n",
    "for fn in file_names:\n",
    "    mf1m = Dataset(path_kpp+f'VR1m/{fn}/gotm_out.nc', mode='r')\n",
    "    mf10m = Dataset(path_kpp+f'VR10m/{fn}/gotm_out.nc', mode='r')\n",
    "    if \"Cooling\" in fn:\n",
    "        fn = fn.replace(\"Cooling\", \"c\")\n",
    "        dtdz=0.1; dsdz=0.0\n",
    "    if \"Evap\" in fn:\n",
    "        fn = fn.replace(\"Evap\", \"e\")\n",
    "        dtdz=0.0; dsdz=-0.025\n",
    "    if \"Strat\" in fn:\n",
    "        fn = fn.replace(\"Strat\", \"s\")\n",
    "        if \"10\" in fn:\n",
    "            dtdz=0.1; dsdz=0.0\n",
    "        elif \"1\" in fn:\n",
    "            dtdz=0.01; dsdz=0.0\n",
    "        elif \"20\" in fn:\n",
    "            dtdz=0.2; dsdz=0.0\n",
    "        else: \n",
    "            print(\"error\",fn)\n",
    "    if \"T1S\" in fn:\n",
    "        fn = fn.replace(\"T1S\", \"t1s\")\n",
    "        dtdz=0.05; dsdz=-0.025\n",
    "\n",
    "\n",
    "    # compute pot\n",
    "    results_kpp[f\"pe_{fn}_1m_kpp\"] = pot_energy2(np.flip(mf1m.variables[\"temp\"][0,:,0,0]),\n",
    "                                             np.flip(np.nanmean(mf1m.variables[\"temp\"][t1:t,:,0,0],axis=0)),\n",
    "                                             np.flip(mf1m.variables[\"salt\"][0,:,0,0]),\n",
    "                                             np.flip(np.nanmean(mf1m.variables[\"salt\"][t1:t,:,0,0],axis=0)),\n",
    "                                             np.flip( mf1m.variables['z'][0,:,0,0]),\n",
    "                                             dtdz,\n",
    "                                             dsdz)\n",
    "    results_kpp[f\"pe_{fn}_10m_kpp\"] = pot_energy2(np.flip(mf10m.variables[\"temp\"][0,:,0,0]),\n",
    "                                             np.flip(np.nanmean(mf10m.variables[\"temp\"][t1:t,:,0,0],axis=0)),\n",
    "                                             np.flip(mf10m.variables[\"salt\"][0,:,0,0]),\n",
    "                                             np.flip(np.nanmean(mf10m.variables[\"salt\"][t1:t,:,0,0],axis=0)),\n",
    "                                             np.flip(mf10m.variables['z'][0,:,0,0]),\n",
    "                                             dtdz,\n",
    "                                             dsdz)\n",
    "#results_kpp"
   ]
  },
  {
   "cell_type": "code",
   "execution_count": null,
   "id": "d3a7a2be",
   "metadata": {},
   "outputs": [],
   "source": [
    "t=int(380/2) #95 hr\n",
    "t=380\n",
    "#t=360 #90 hr\n",
    "t1=t-1 #83 hr #12 hr average\n",
    "\n",
    "#ke\n",
    "\n",
    "\n",
    "results_ke = {}\n",
    "file_names = [*[f\"Cooling{x}\" for x in [2]], \n",
    "          #    *[f\"Evap{x}\" for x in [1, 4]],\n",
    "         #     *[f\"Strat{x}\" for x in [1, 10, 20]],\n",
    "         #     *[f\"T1S{x}\" for x in [0, 1, 3, 15]],\n",
    "             ]\n",
    "#datasets = [1, 10]\n",
    "\n",
    "\n",
    "for fn in file_names:\n",
    "    mf1m = Dataset(path_ke+f'VR1m/{fn}/gotm_out.nc', mode='r')\n",
    "    mf10m = Dataset(path_ke+f'VR10m/{fn}/gotm_out.nc', mode='r')\n",
    "    if \"Cooling\" in fn:\n",
    "        fn = fn.replace(\"Cooling\", \"c\")\n",
    "        dtdz=0.1; dsdz=0.0\n",
    "    if \"Evap\" in fn:\n",
    "        fn = fn.replace(\"Evap\", \"e\")\n",
    "        dtdz=0.0; dsdz=-0.025\n",
    "    if \"Strat\" in fn:\n",
    "        fn = fn.replace(\"Strat\", \"s\")\n",
    "        if \"10\" in fn:\n",
    "            dtdz=0.1; dsdz=0.0\n",
    "        elif \"1\" in fn:\n",
    "            dtdz=0.01; dsdz=0.0\n",
    "        elif \"20\" in fn:\n",
    "            dtdz=0.2; dsdz=0.0\n",
    "        else: \n",
    "            print(\"error\",fn)\n",
    "    if \"T1S\" in fn:\n",
    "        fn = fn.replace(\"T1S\", \"t1s\")\n",
    "        dtdz=0.05; dsdz=-0.025\n",
    "\n",
    "\n",
    "    # compute pot\n",
    "    results_ke[f\"pe_{fn}_1m_ke\"] = pot_energy2(np.flip(mf1m.variables[\"temp\"][0,:,0,0]),\n",
    "                                            np.flip(np.nanmean(mf1m.variables[\"temp\"][t1:t,:,0,0],axis=0)),\n",
    "                                              np.flip(mf1m.variables[\"salt\"][0,:,0,0]),\n",
    "                                              np.flip(np.nanmean(mf1m.variables[\"salt\"][t1:t,:,0,0],axis=0)),\n",
    "                                              np.flip(mf1m.variables['z'][0,:,0,0]),\n",
    "                                              dtdz,\n",
    "                                              dsdz)\n",
    "    results_ke[f\"pe_{fn}_10m_ke\"] = pot_energy2(np.flip(mf10m.variables[\"temp\"][0,:,0,0]),\n",
    "                                             np.flip(np.nanmean(mf10m.variables[\"temp\"][t1:t,:,0,0],axis=0)),\n",
    "                                             np.flip(mf10m.variables[\"salt\"][0,:,0,0]),\n",
    "                                             np.flip(np.nanmean(mf10m.variables[\"salt\"][t1:t,:,0,0],axis=0)),\n",
    "                                             np.flip(mf10m.variables['z'][0,:,0,0]),\n",
    "                                             dtdz,\n",
    "                                             dsdz)\n",
    "#results_ke\n",
    "\n",
    "\n"
   ]
  },
  {
   "cell_type": "code",
   "execution_count": 11,
   "id": "3b8cb890",
   "metadata": {},
   "outputs": [
    {
     "data": {
      "text/plain": [
       "Text(0.5, 1.0, 'kpp_cooling16')"
      ]
     },
     "execution_count": 11,
     "metadata": {},
     "output_type": "execute_result"
    },
    {
     "data": {
      "image/png": "[encoded data removed]",
      "text/plain": [
       "<Figure size 432x288 with 1 Axes>"
      ]
     },
     "metadata": {
      "needs_background": "light"
     },
     "output_type": "display_data"
    }
   ],
   "source": [
    "t=380\n",
    "#t=360 #90 hr\n",
    "t1=360 #83 hr #12 hr average\n",
    "\n",
    "\n",
    "path_kpp=\"/Users/amrapallig/run/cvmix_analysis/les/KPP-CVMix/\"\n",
    "\n",
    "mf10m = Dataset(path_kpp+'VR10m/Cooling16/gotm_out.nc', mode='r')\n",
    "plt.plot(np.nanmean(mf10m.variables[\"temp\"][t1:t,:,0,0],axis=0),(mf10m.variables['z'][0,:,0,0]))\n",
    "mf1m = Dataset(path_kpp+'VR1m/Cooling16/gotm_out.nc', mode='r')\n",
    "plt.plot(np.nanmean(mf1m.variables[\"temp\"][t1:t,:,0,0],axis=0),(mf1m.variables['z'][0,:,0,0]))\n",
    "plt.legend(['10m','1m'])\n",
    "plt.ylim(-70,1)\n",
    "plt.xlim(12,20)\n",
    "plt.title(\"kpp_cooling16\")"
   ]
  },
  {
   "cell_type": "code",
   "execution_count": 18,
   "id": "9d2df0ac",
   "metadata": {},
   "outputs": [
    {
     "data": {
      "text/plain": [
       "Text(0.5, 1.0, 'ke_cooling4')"
      ]
     },
     "execution_count": 18,
     "metadata": {},
     "output_type": "execute_result"
    },
    {
     "data": {
      "image/png": "[encoded data removed]",
      "text/plain": [
       "<Figure size 432x288 with 1 Axes>"
      ]
     },
     "metadata": {
      "needs_background": "light"
     },
     "output_type": "display_data"
    }
   ],
   "source": [
    "path_ke=\"/Users/amrapallig/run/cvmix_analysis/les/K-EPSILON-SG/\"\n",
    "t=int(380/2)\n",
    "#t=360 #90 hr\n",
    "t1=t-3 #83 hr #12 hr average\n",
    "\n",
    "\n",
    "\n",
    "mf10m = Dataset(path_ke+'VR10m/Cooling4/gotm_out.nc', mode='r')\n",
    "plt.plot(np.nanmean(mf10m.variables[\"temp\"][t1:t,:,0,0],axis=0),(mf10m.variables['z'][0,:,0,0]))\n",
    "mf1m = Dataset(path_ke+'VR1m/Cooling4/gotm_out.nc', mode='r')\n",
    "plt.plot(np.nanmean(mf1m.variables[\"temp\"][t1:t,:,0,0],axis=0),(mf1m.variables['z'][0,:,0,0]),'--')\n",
    "plt.legend(['10m','1m'])\n",
    "plt.ylim(-50,1)\n",
    "plt.xlim(15,20)\n",
    "plt.title(\"ke_cooling4\")"
   ]
  },
  {
   "cell_type": "code",
   "execution_count": 35,
   "id": "e45b2f47",
   "metadata": {},
   "outputs": [
    {
     "data": {
      "text/plain": [
       "<matplotlib.collections.PolyCollection at 0x7fab0b7954c0>"
      ]
     },
     "execution_count": 35,
     "metadata": {},
     "output_type": "execute_result"
    },
    {
     "data": {
      "image/png": "[encoded data removed]",
      "text/plain": [
       "<Figure size 432x288 with 1 Axes>"
      ]
     },
     "metadata": {
      "needs_background": "light"
     },
     "output_type": "display_data"
    }
   ],
   "source": [
    "plt.pcolor(np.transpose(mf10m.variables[\"temp\"][:,-20:,0,0]))"
   ]
  }
 ],
 "metadata": {
  "kernelspec": {
   "display_name": "Python 3",
   "language": "python",
   "name": "python3"
  },
  "language_info": {
   "codemirror_mode": {
    "name": "ipython",
    "version": 3
   },
   "file_extension": ".py",
   "mimetype": "text/x-python",
   "name": "python",
   "nbconvert_exporter": "python",
   "pygments_lexer": "ipython3",
   "version": "3.9.5"
  }
 },
 "nbformat": 4,
 "nbformat_minor": 5
}
