{
 "cells": [
  {
   "cell_type": "code",
   "execution_count": 20,
   "metadata": {},
   "outputs": [],
   "source": [
    "\n",
    "import matplotlib.pyplot as plt # plotting\n",
    "import numpy as np              # working with number arrays etc.\n",
    "from netCDF4 import Dataset     # reading netcdf files\n",
    "import pandas as pd  \n",
    "import seaborn as sns\n",
    "\n",
    "path_les=\"/Users/amrapallig/run/cvmix_analysis/les/\"\n"
   ]
  },
  {
   "cell_type": "code",
   "execution_count": 21,
   "metadata": {},
   "outputs": [],
   "source": [
    "\n",
    "def plume_les(w3,w2,wt,ws):\n",
    "    sw=w3/(w2**(3/2))\n",
    "    sigma=0.5+sw/(2*np.sqrt(4+sw**2))\n",
    "    wumd=np.sqrt(w2/(sigma*(1-sigma)))\n",
    "    mc=sigma*(1-sigma)*wumd\n",
    "    tumd=wt/mc\n",
    "    sumd=ws/mc\n",
    "    \n",
    "    return sigma,mc,wumd, tumd, sumd, sw\n",
    "  "
   ]
  },
  {
   "cell_type": "code",
   "execution_count": 22,
   "metadata": {},
   "outputs": [],
   "source": [
    "    #### Lu-Ld\n",
    "def lu_ld(u2,v2,w2,wt,ws,zm,temp,salt,t):   \n",
    "    \n",
    "        sigma, mc,wumd, tumd, sumd,sw=plume_les(les.variables['w3'][t,:], \n",
    "                                            les.variables['w2'][t,:],les.variables['wt'][t,:],\n",
    "                                            les.variables['ws'][t,:])\n",
    "        g=9.81\n",
    "        alphaT=2*10**(-4)\n",
    "        betaS=8*10**(-4)\n",
    "        tke = 0.5*(u2 + v2 + w2)\n",
    "        B = -g*(-alphaT*(temp - 20.0) + betaS*(salt - 35))\n",
    "\n",
    "        sav = [(sigma[i]+sigma[i+1])/2 for i in range(0, len(sigma)-1, 1)]\n",
    "        tudav =[(tumd[i]+tumd[i+1])/2 for i in range(0, len(tumd)-1, 1)]\n",
    "        Tup = temp[1:]+ (1- np.array(sav))*tudav\n",
    "        Tdo = temp[1:] - np.array(sav)*tudav\n",
    "\n",
    "        sudav =[(sumd[i]+sumd[i+1])/2 for i in range(0, len(tumd)-1, 1)]\n",
    "        Sup = salt[1:]+ (1- np.array(sav))*sudav\n",
    "        Sdo = salt[1:] - np.array(sav)*sudav\n",
    "\n",
    "        Bup = -g*(-alphaT*(Tup - 15.0) + betaS*(Sup - 35.0))\n",
    "        Bdo = -g*(-alphaT*(Tdo - 15.0) + betaS*(Sdo - 35.0))\n",
    "\n",
    "        BupEdge = [(Bup[i]+Bup[i-1])/2 for i in range(1, len(Bup), 1)]\n",
    "        BdoEdge =[(Bdo[i]+Bdo[i-1])/2 for i in range(1, len(Bdo), 1)]\n",
    "\n",
    "        BupEdge.insert(0,BupEdge[1])\n",
    "        BdoEdge.insert(0,BdoEdge[1])\n",
    "        BupEdge.insert(len(BupEdge),BupEdge[-1])\n",
    "        BdoEdge.insert(len(BdoEdge),BdoEdge[-1])\n",
    "\n",
    "        lenup=np.zeros(len(BupEdge))\n",
    "        for k in np.arange(len(BupEdge)-2):\n",
    "            k=k+1\n",
    "            ij=k\n",
    "            sumv=0\n",
    "            lenup[k]=0\n",
    "            while ((sumv<=tke[k]) & (ij<len(BupEdge)) ):\n",
    "                sumv = sumv + (BupEdge[k] - Bup[ij])*(zm[ij-1]-zm[ij])\n",
    "                lenup[k]=lenup[k]+np.abs(zm[ij-1]-zm[ij])\n",
    "                ij = ij + 1\n",
    "            #print (ij,k,sumv,tke[k])     \n",
    "                if (sumv>tke[k]): \n",
    "                    ij = ij - 1\n",
    "                    s1 = sumv\n",
    "                    z1 = zm[ij]\n",
    "                    zV = zm[ij-1]\n",
    "                    sumv = sumv - (BupEdge[k]  - Bup[ij])*(zm[ij-1]-zm[ij])\n",
    "                    lenup[k] = lenup[k]  - np.abs(zm[ij]-zm[ij+1])\n",
    "                    lenup[k]  = np.maximum(0.55,lenup[k]  + np.abs((z1-zV)/(s1 - sumv)*(tke[k] -sumv)))\n",
    "                    break\n",
    "    #print(lenup)            \n",
    "\n",
    "        lendn=np.zeros(len(BdoEdge))\n",
    "        for k in np.arange(len(BdoEdge)-2):\n",
    "            k=k+1\n",
    "            ij=k\n",
    "            sumv=0\n",
    "            lendn[k]=0\n",
    "            while ((sumv<=tke[k]) & (ij>0) ):\n",
    "                sumv = sumv - (BdoEdge[k] - Bdo[ij-1])*(zm[ij-1]-zm[ij])\n",
    "                lendn[k]=lendn[k]+np.abs(zm[ij-1]-zm[ij])\n",
    "                ij = ij - 1\n",
    "            #print (ij,k,sumv,tke[k])     \n",
    "                if (sumv>tke[k]): \n",
    "                    ij = ij + 1\n",
    "                    s1 = sumv\n",
    "                    z1 = zm[ij]\n",
    "                    zV = zm[ij-1]\n",
    "                    sumv = sumv + (BdoEdge[k]  - Bdo[ij-1])*(zm[ij-1]-zm[ij])\n",
    "                    lendn[k] = lendn[k]  - np.abs(zm[ij-1]-zm[ij])\n",
    "                    lendn[k]  = np.maximum(0.55,lendn[k]  + ((z1-zV)/(s1 - sumv)*(tke[k] -sumv)))\n",
    "                    break\n",
    "        l_ratio=lenup/lendn     \n",
    "        ind=np.where(lenup==0.55)\n",
    "        indd=ind[0][0]\n",
    "        zi=zm[indd]\n",
    "        ind=np.where(np.round(zm/zi,1)==0.4)\n",
    "        ind=ind[0][0]\n",
    "        lup_ldn_les=l_ratio[ind]\n",
    "        return(lup_ldn_les)"
   ]
  },
  {
   "cell_type": "code",
   "execution_count": 25,
   "metadata": {},
   "outputs": [
    {
     "name": "stderr",
     "output_type": "stream",
     "text": [
      "<ipython-input-22-616923feca7c>:15: UserWarning: Warning: converting a masked element to nan.\n",
      "  Tup = temp[1:]+ (1- np.array(sav))*tudav\n",
      "<ipython-input-22-616923feca7c>:16: UserWarning: Warning: converting a masked element to nan.\n",
      "  Tdo = temp[1:] - np.array(sav)*tudav\n",
      "<ipython-input-22-616923feca7c>:19: UserWarning: Warning: converting a masked element to nan.\n",
      "  Sup = salt[1:]+ (1- np.array(sav))*sudav\n",
      "<ipython-input-22-616923feca7c>:20: UserWarning: Warning: converting a masked element to nan.\n",
      "  Sdo = salt[1:] - np.array(sav)*sudav\n",
      "<ipython-input-22-616923feca7c>:75: RuntimeWarning: invalid value encountered in true_divide\n",
      "  l_ratio=lenup/lendn\n"
     ]
    }
   ],
   "source": [
    "lenup_dn_z_zi_p4={}\n",
    "t=95\n",
    "t1=95-12\n",
    "file_names = [*[f\"Cooling{x}\" for x in [1, 2, 4, 16]], \n",
    "              *[f\"Evap{x}\" for x in [1, 4]],\n",
    "              *[f\"Strat{x}\" for x in [1, 10, 20]],\n",
    "              *[f\"T1S{x}\" for x in [0, 1, 3, 15]],\n",
    "             ]\n",
    "\n",
    "\n",
    "for fn in file_names:\n",
    "    les= Dataset(path_les+f'{fn}.nc', mode='r')\n",
    "    u2=np.nanmean(les.variables['u2'][t1:t,:],axis=0)\n",
    "    v2=np.nanmean(les.variables['v2'][t1:t,:],axis=0)\n",
    "    w3=np.nanmean(les.variables['w3'][t1:t,:],axis=0)\n",
    "    w2=np.nanmean(les.variables['w2'][t1:t,:],axis=0)\n",
    "    wt=np.nanmean(les.variables['wt'][t1:t,:],axis=0)\n",
    "    ws=np.nanmean(les.variables['ws'][t1:t,:],axis=0)\n",
    "    zm=les.variables['zm'][:]\n",
    "    w4=np.nanmean(les.variables['w4'][t1:t,:],axis=0)\n",
    "    temp=np.nanmean(les.variables['temp'][t1:t,:],axis=0)\n",
    "    salt=np.nanmean(les.variables['salt'][t1:t,:],axis=0)\n",
    "    lenup_dn_z_zi_p4[f\"luld_{fn}\"] = lu_ld(u2,v2,w2,wt,ws,zm,temp,salt,t)\n"
   ]
  },
  {
   "cell_type": "code",
   "execution_count": 26,
   "metadata": {},
   "outputs": [
    {
     "data": {
      "text/plain": [
       "(array([0. , 0.5, 1. , 1.5, 2. , 2.5, 3. ]),\n",
       " [Text(0, 0, ''),\n",
       "  Text(0, 0, ''),\n",
       "  Text(0, 0, ''),\n",
       "  Text(0, 0, ''),\n",
       "  Text(0, 0, ''),\n",
       "  Text(0, 0, ''),\n",
       "  Text(0, 0, '')])"
      ]
     },
     "execution_count": 26,
     "metadata": {},
     "output_type": "execute_result"
    },
    {
     "data": {
      "text/plain": [
       "<Figure size 1440x576 with 0 Axes>"
      ]
     },
     "metadata": {},
     "output_type": "display_data"
    },
    {
     "data": {
      "image/png": "[encoded data removed]",
      "text/plain": [
       "<Figure size 504x360 with 1 Axes>"
      ]
     },
     "metadata": {
      "needs_background": "light"
     },
     "output_type": "display_data"
    }
   ],
   "source": [
    "\n",
    "\n",
    "\n",
    "\n",
    "fig= plt.figure(figsize=(20,8))\n",
    "f, ax = plt.subplots(figsize=(7,5))\n",
    "d=1\n",
    "plt.plot(d,lenup_dn_z_zi_p4[\"luld_Cooling1\"],'ok',markersize=10)\n",
    "d=3\n",
    "plt.plot(d,lenup_dn_z_zi_p4[\"luld_Cooling2\"],'ok',markersize=10)\n",
    "d=5\n",
    "plt.plot(d,lenup_dn_z_zi_p4[\"luld_Cooling4\"],'ok',markersize=10)\n",
    "d=7\n",
    "plt.plot(d,lenup_dn_z_zi_p4[\"luld_Cooling16\"],'ok',markersize=10)\n",
    "d=9\n",
    "plt.plot(d,lenup_dn_z_zi_p4[\"luld_Evap1\"],'ok',markersize=10)\n",
    "d=11\n",
    "plt.plot(d,lenup_dn_z_zi_p4[\"luld_Evap4\"],'ok',markersize=10)\n",
    "d=13\n",
    "plt.plot(d,lenup_dn_z_zi_p4[\"luld_Strat1\"],'ok',markersize=10)\n",
    "d=15\n",
    "plt.plot(d,lenup_dn_z_zi_p4[\"luld_Strat10\"],'ok',markersize=12)\n",
    "d=17\n",
    "plt.plot(d,lenup_dn_z_zi_p4[\"luld_Strat20\"],'ok',markersize=12) #s10\n",
    "d=19\n",
    "plt.plot(d,lenup_dn_z_zi_p4[\"luld_T1S0\"],'ok',markersize=12)  #s20\n",
    "d=21\n",
    "plt.plot(d,lenup_dn_z_zi_p4[\"luld_T1S1\"],'ok',markersize=12)\n",
    "d=23\n",
    "plt.plot(d,lenup_dn_z_zi_p4[\"luld_T1S3\"],'ok',markersize=12)\n",
    "d=25\n",
    "plt.plot(d,lenup_dn_z_zi_p4[\"luld_T1S15\"],'ok',markersize=12) #t4w\n",
    "d=27\n",
    "\n",
    "\n",
    "\n",
    "\n",
    "\n",
    "plt.ylim(0,3)\n",
    "plt.ylabel('$L_{up}/L_{dn}$',fontsize=20)\n",
    "#plt.xlabel('$cases(c1,c2,c4,c16,e1,e4)$',fontsize=10)\n",
    "\n",
    "x = ['Cooling1', 'Cooling2', 'Cooling4','Cooling16',\n",
    "     'Evap1','Evap4','Strat1','Strat10','Strat20','T1S0','T1S1','T1S3','T1S15']\n",
    "l = [1,3,5,7,9,11,13,15,17,19,21,23,25]\n",
    "#l=l[:]+1\n",
    "plt.plot([-1,20],[1.5,1.5],'--k')\n",
    "ax.set_xticks(l)\n",
    "ax.set_xticklabels(x,fontsize=15)\n",
    "for tick in ax.get_xticklabels():\n",
    "    tick.set_rotation(70)\n",
    "#plt.grid(True) \n",
    "plt.xlim(-1,20)\n",
    "plt.ylim(0,3)\n",
    "plt.xticks(fontsize=14)\n",
    "plt.yticks(fontsize=14)\n"
   ]
  },
  {
   "cell_type": "code",
   "execution_count": null,
   "metadata": {},
   "outputs": [],
   "source": []
  }
 ],
 "metadata": {
  "kernelspec": {
   "display_name": "Python 3",
   "language": "python",
   "name": "python3"
  },
  "language_info": {
   "codemirror_mode": {
    "name": "ipython",
    "version": 3
   },
   "file_extension": ".py",
   "mimetype": "text/x-python",
   "name": "python",
   "nbconvert_exporter": "python",
   "pygments_lexer": "ipython3",
   "version": "3.9.5"
  }
 },
 "nbformat": 4,
 "nbformat_minor": 4
}
