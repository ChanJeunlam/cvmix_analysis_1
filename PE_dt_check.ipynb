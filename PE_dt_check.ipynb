{
 "cells": [
  {
   "cell_type": "code",
   "execution_count": 14,
   "id": "236c1508",
   "metadata": {},
   "outputs": [],
   "source": [
    "import matplotlib.pyplot as plt # plotting\n",
    "import numpy as np              # working with number arrays etc.\n",
    "from netCDF4 import Dataset     # reading netcdf files\n",
    "from numpy import trapz         # for integration\n",
    "\n",
    "# all file paths: change according to file location\n",
    "path_les=\"/Users/amrapallig/run/cvmix_analysis/les/\"\n",
    "path_adc=\"/Users/amrapallig/Desktop/cvmix/adc/convection/\"\n",
    "path_kpp=\"/Users/amrapallig/run/cvmix_analysis/les/KPP-CVMix/\"\n",
    "path_ke=\"/Users/amrapallig/run/cvmix_analysis/les/K-EPSILON-SG/\""
   ]
  },
  {
   "cell_type": "code",
   "execution_count": 15,
   "id": "0014e1d2",
   "metadata": {},
   "outputs": [],
   "source": [
    "\n",
    "# density calculation from given temp and salinity\n",
    "def density_eos(t,s):\n",
    "    density= 1026.0*(1.0-2e-4*(t-20)+8e-4*(s-35))\n",
    "    return density\n",
    "\n",
    "#rate of change of depth integrated potential energy calculation\n",
    "def pot_energy2(temperature_0,temperature_t,salinity_0,salinity_t,depth,dtdz,dsdz,t=95):\n",
    "    ind=np.where((depth)>-80)  ##plots are weird with, 5 m doing worse than 10m if whole depth 100m is selected\n",
    "                                ## thats why I am taking depth till -75\n",
    "    depth=depth[ind]\n",
    "    #for initial time\n",
    "    \n",
    "    # defined initial profiles as data saved for les and adc are from 1 hr and \n",
    "    # for kpp and kepsilon are from zero hr\n",
    "    #temp=20+dtdz*depth\n",
    "    #salt=35+dsdz*depth \n",
    "    temp=temperature_0[ind]\n",
    "    salt=salinity_0[ind]\n",
    "    density= density_eos(temp,salt)\n",
    "    # depth integrated potential energy PE=density*9.81*depth\n",
    "    area=trapz(density*9.81*depth,depth)\n",
    "    PE_0=area\n",
    "    #print(PE_0)\n",
    "    \n",
    "    #for final time\n",
    "    temp=temperature_t[ind]\n",
    "    salt=salinity_t[ind]\n",
    "    density= density_eos(temp,salt)\n",
    "    plt.plot(density,depth)\n",
    "    plt.ylim(-20,0)\n",
    "    # depth integrated potential energy PE=density*9.81*depth\n",
    "    # area under PE\n",
    "    area=trapz(density*9.81*depth,depth)\n",
    "    PE_t=area\n",
    "    PE_rate_change=(PE_t-PE_0)/(3600*t)  # in Watt/m^2\n",
    "    #print(PE_t)\n",
    "    return (PE_rate_change)\n"
   ]
  },
  {
   "cell_type": "code",
   "execution_count": 16,
   "id": "123eb903",
   "metadata": {},
   "outputs": [
    {
     "data": {
      "text/plain": [
       "{'pe_c2_les': 0.00019524290976904288}"
      ]
     },
     "execution_count": 16,
     "metadata": {},
     "output_type": "execute_result"
    },
    {
     "data": {
      "image/png": "[encoded data removed]",
      "text/plain": [
       "<Figure size 432x288 with 1 Axes>"
      ]
     },
     "metadata": {
      "needs_background": "light"
     },
     "output_type": "display_data"
    }
   ],
   "source": [
    "# time step\n",
    "t = 96  # as KPP and KE have 95 hrs of data stratibg from zero\n",
    "# range of time for averaging\n",
    "t1 = t-4\n",
    "\n",
    "# LES\n",
    "#path_les=\"/Users/amrapalli/runs/cvmix/cvmix_analysis/les/\"\n",
    "results_les = {}\n",
    "#vertical resolutions\n",
    "#datasets = [1, 2, 5, 10] \n",
    "# list comprehension\n",
    "file_names = [*[f\"Cooling{x}\" for x in [1, 2, 4, 16]], \n",
    "              *[f\"Evap{x}\" for x in [1, 4]],\n",
    "              *[f\"Strat{x}\" for x in [1, 10, 20]],\n",
    "              *[f\"T1S{x}\" for x in [0, 1, 3, 15]],\n",
    "             ]\n",
    "\n",
    "# #file_names\n",
    "# for fn in file_names:\n",
    "#     les= Dataset(path_les+f'{fn}.nc', mode='r')\n",
    "\n",
    "# #         # compute pot\n",
    "    \n",
    "#     if \"Cooling\" in fn:\n",
    "#         fn = fn.replace(\"Cooling\", \"c\")\n",
    "#         dtdz=0.1; dsdz=0.0\n",
    "#     if \"Evap\" in fn:\n",
    "#         fn = fn.replace(\"Evap\", \"e\")\n",
    "#         dtdz=0.0; dsdz=-0.025\n",
    "#     if \"Strat\" in fn:\n",
    "#         fn = fn.replace(\"Strat\", \"s\")\n",
    "#         if \"10\" in fn:\n",
    "#             dtdz=0.1; dsdz=0.0\n",
    "#         elif \"1\" in fn:\n",
    "#             dtdz=0.01; dsdz=0.0\n",
    "#         elif \"20\" in fn:\n",
    "#             dtdz=0.2; dsdz=0.0\n",
    "#         else: \n",
    "#             print(\"error\")\n",
    "#     if \"T1S\" in fn:\n",
    "#         fn = fn.replace(\"T1S\", \"t1s\")\n",
    "#         dtdz=0.05; dsdz=-0.025\n",
    "#     #print(fn,dtdz,dsdz)\n",
    "les= Dataset(path_les+'Cooling2.nc', mode='r')\n",
    "\n",
    "results_les[\"pe_c2_les\"] = pot_energy2(les.variables[\"temp\"][0,:],\n",
    "                                              np.nanmean(les.variables[\"temp\"][t1:t,:],axis=0),\n",
    "                                              les.variables[\"salt\"][0,:],\n",
    "                                              np.nanmean(les.variables[\"salt\"][t1:t,:],axis=0),\n",
    "                                              les.variables['zm'][:],\n",
    "                                              dtdz=0.1,\n",
    "                                              dsdz=0.0)\n",
    "results_les"
   ]
  },
  {
   "cell_type": "code",
   "execution_count": 8,
   "id": "c2185954",
   "metadata": {},
   "outputs": [
    {
     "data": {
      "text/plain": [
       "{'pe_c2_adcdtp5s': 0.00019548585019700708,\n",
       " 'pe_c2_adcdt1s': 0.0001932532756061059,\n",
       " 'pe_c2_adcdt2s': 0.00019342204985039972,\n",
       " 'pe_c2_adcdt5s': 0.00019674077347923093}"
      ]
     },
     "execution_count": 8,
     "metadata": {},
     "output_type": "execute_result"
    },
    {
     "data": {
      "image/png": "[encoded data removed]",
      "text/plain": [
       "<Figure size 432x288 with 1 Axes>"
      ]
     },
     "metadata": {
      "needs_background": "light"
     },
     "output_type": "display_data"
    }
   ],
   "source": [
    "# ADC\n",
    "# time step\n",
    "t = 96  # as KPP and KE have 95 hrs of data stratibg from zero\n",
    "# range of time for averaging\n",
    "t1 = t-4\n",
    "path_adc=\"/Users/amrapallig/run/cvmix_test/forward/output/convection/time_sensitivity/\"\n",
    "results_adc_c2_adcdt = {}\n",
    "\n",
    "#resolutions = [1, 2, 5, 10]\n",
    "#resolutions = [10]\n",
    "#file_names = [\"c1\", \"c2\", \"c4\", \"c16\", \n",
    "#              \"e1\", \"e4\", \n",
    "#              \"s1\", \"s10\", \"s20\", \n",
    "#              \"t1s0\", \"t1s1\", \"t1s3\", \"t1s15\"]\n",
    "file_names_adcdt = [\"p5s\",\"1s\",\"2s\",\"5s\"]\n",
    "#file_names_dt = [\"5min\",\"10min\",\"30min\",\"1hr\",\"2hr\"]\n",
    "for fn in file_names_adcdt:  \n",
    "        mf = Dataset(path_adc+f'adcTurbulenceArrays_c2_1m_adcdt{fn}_dt1hr.nc', mode='r')  \n",
    "        fh = Dataset(path_adc+f'output.0001-01-01_00.00_c2_1m_adcdt{fn}_dt1hr.nc', mode='r')\n",
    "        dtdz=0.1; dsdz=0.0 #for c2\n",
    "       \n",
    "                         \n",
    "        # compute pot\n",
    "        results_adc_c2_adcdt[f\"pe_c2_adcdt{fn}\"] = pot_energy2(mf.variables[\"temperature\"][0,0,:],\n",
    "                                                   np.nanmean(mf.variables[\"temperature\"][t1:t,0,:],axis=0),\n",
    "                                                   mf.variables[\"salinity\"][0,0,:],\n",
    "                                                  np.nanmean(mf.variables[\"salinity\"][t1:t,0,:],axis=0),\n",
    "                                                  fh.variables['zMid'][0,0,:],\n",
    "                                                  dtdz,\n",
    "                                                  dsdz)\n",
    "results_adc_c2_adcdt\n"
   ]
  },
  {
   "cell_type": "code",
   "execution_count": 9,
   "id": "59f3efc3",
   "metadata": {},
   "outputs": [
    {
     "data": {
      "text/plain": [
       "{'c2_adcdtp5s': -0.0012442983371410304,\n",
       " 'c2_adcdt1s': 0.010190557830195077,\n",
       " 'c2_adcdt2s': 0.009326125700529136,\n",
       " 'c2_adcdt5s': -0.007671795672170145}"
      ]
     },
     "execution_count": 9,
     "metadata": {},
     "output_type": "execute_result"
    }
   ],
   "source": [
    "relative_errors_adcdt = {}\n",
    "\n",
    "file_names_adcdt = [\"p5s\",\"1s\",\"2s\",\"5s\"]\n",
    "for fn in file_names_adcdt:\n",
    "    numerator = results_les[\"pe_c2_les\"] - results_adc_c2_adcdt[f\"pe_c2_adcdt{fn}\"]\n",
    "    relative_errors_adcdt[f\"c2_adcdt{fn}\"] = numerator/results_les[\"pe_c2_les\"]\n",
    "        \n",
    "relative_errors_adcdt\n"
   ]
  },
  {
   "cell_type": "code",
   "execution_count": 10,
   "id": "b296dcb1",
   "metadata": {},
   "outputs": [
    {
     "data": {
      "text/plain": [
       "{'pe_c2_dt5min': 0.00019192431690661532,\n",
       " 'pe_c2_dt10min': 0.00019204526955577715,\n",
       " 'pe_c2_dt30min': 0.00019253194009700015,\n",
       " 'pe_c2_dt1hr': 0.0001932532756061059,\n",
       " 'pe_c2_dt2hr': 0.00019447149444175394}"
      ]
     },
     "execution_count": 10,
     "metadata": {},
     "output_type": "execute_result"
    },
    {
     "data": {
      "image/png": "[encoded data removed]",
      "text/plain": [
       "<Figure size 432x288 with 1 Axes>"
      ]
     },
     "metadata": {
      "needs_background": "light"
     },
     "output_type": "display_data"
    }
   ],
   "source": [
    "# ADC\n",
    "path_adc=\"/Users/amrapallig/run/cvmix_test/forward/output/convection/time_sensitivity/\"\n",
    "results_adc_c2_dt = {}\n",
    "\n",
    "#resolutions = [1, 2, 5, 10]\n",
    "#resolutions = [10]\n",
    "#file_names = [\"c1\", \"c2\", \"c4\", \"c16\", \n",
    "#              \"e1\", \"e4\", \n",
    "#              \"s1\", \"s10\", \"s20\", \n",
    "#              \"t1s0\", \"t1s1\", \"t1s3\", \"t1s15\"]\n",
    "#file_names_adcdt = [\"p5s\",\"1s\",\"2s\",\"5s\"]\n",
    "file_names_dt = [\"5min\",\"10min\",\"30min\",\"1hr\",\"2hr\"]\n",
    "for fn in file_names_dt:  \n",
    "        mf = Dataset(path_adc+f'adcTurbulenceArrays_c2_1m_adcdt1s_dt{fn}.nc', mode='r')  \n",
    "        fh = Dataset(path_adc+f'output.0001-01-01_00.00_c2_1m_adcdt1s_dt{fn}.nc', mode='r')\n",
    "        dtdz=0.1; dsdz=0.0 #for c2\n",
    "        \n",
    "        if fn==\"1hr\":\n",
    "            t=96; t1=t-4                 #1hr\n",
    "        if fn==\"2hr\":\n",
    "            t=int(96/2); t1=t-int(4/2)   #2hr\n",
    "        if fn==\"30min\":\n",
    "            t=int(96*2); t1=t-int(4*2)   #30min\n",
    "        if fn==\"10min\":\n",
    "            t=int(96*6); t1=t-int(4*6)   #10min\n",
    "        if fn==\"5min\":\n",
    "            t=int(96*12); t1=t-int(4*12)  #5minmin\n",
    "        \n",
    "        # compute pot\n",
    "        results_adc_c2_dt[f\"pe_c2_dt{fn}\"] = pot_energy2(mf.variables[\"temperature\"][0,0,:],\n",
    "                                                   np.nanmean(mf.variables[\"temperature\"][t1:t,0,:],axis=0),\n",
    "                                                   mf.variables[\"salinity\"][0,0,:],\n",
    "                                                  np.nanmean(mf.variables[\"salinity\"][t1:t,0,:],axis=0),\n",
    "                                                  fh.variables['zMid'][0,0,:],\n",
    "                                                  dtdz,\n",
    "                                                  dsdz)\n",
    "results_adc_c2_dt"
   ]
  },
  {
   "cell_type": "code",
   "execution_count": 11,
   "id": "8b92c020",
   "metadata": {},
   "outputs": [
    {
     "data": {
      "text/plain": [
       "{'c2_dt5min': 0.01699725161007486,\n",
       " 'c2_dt10min': 0.01637775331789662,\n",
       " 'c2_dt30min': 0.013885112013796518,\n",
       " 'c2_dt1hr': 0.010190557830195077,\n",
       " 'c2_dt2hr': 0.00395105424417955}"
      ]
     },
     "execution_count": 11,
     "metadata": {},
     "output_type": "execute_result"
    }
   ],
   "source": [
    "relative_errors_dt = {}\n",
    "\n",
    "file_names_dt = [\"5min\",\"10min\",\"30min\",\"1hr\",\"2hr\"]\n",
    "for fn in file_names_dt:\n",
    "    numerator = results_les[\"pe_c2_les\"] - results_adc_c2_dt[f\"pe_c2_dt{fn}\"]\n",
    "    relative_errors_dt[f\"c2_dt{fn}\"] = numerator/results_les[\"pe_c2_les\"]\n",
    "    \n",
    "    \n",
    "        \n",
    "relative_errors_dt\n"
   ]
  },
  {
   "cell_type": "code",
   "execution_count": null,
   "id": "568e99bf",
   "metadata": {},
   "outputs": [],
   "source": [
    "relative_errors_dt"
   ]
  },
  {
   "cell_type": "code",
   "execution_count": 13,
   "id": "6bfe4a28",
   "metadata": {},
   "outputs": [
    {
     "data": {
      "text/plain": [
       "(array([-0.1  , -0.075, -0.05 , -0.025,  0.   ,  0.025,  0.05 ,  0.075,\n",
       "         0.1  ]),\n",
       " [Text(0, 0, ''),\n",
       "  Text(0, 0, ''),\n",
       "  Text(0, 0, ''),\n",
       "  Text(0, 0, ''),\n",
       "  Text(0, 0, ''),\n",
       "  Text(0, 0, ''),\n",
       "  Text(0, 0, ''),\n",
       "  Text(0, 0, ''),\n",
       "  Text(0, 0, '')])"
      ]
     },
     "execution_count": 13,
     "metadata": {},
     "output_type": "execute_result"
    },
    {
     "data": {
      "image/png": "[encoded data removed]",
      "text/plain": [
       "<Figure size 864x288 with 2 Axes>"
      ]
     },
     "metadata": {
      "needs_background": "light"
     },
     "output_type": "display_data"
    }
   ],
   "source": [
    "plt.figure(figsize=(12,4))\n",
    "plt.subplot(121)\n",
    "\n",
    "a=2,4,6,8\n",
    "plt.plot(a[0],relative_errors_adcdt[\"c2_adcdtp5s\"],'or',markersize=10)\n",
    "plt.plot(a[1],relative_errors_adcdt[\"c2_adcdt1s\"],'or',markersize=10)\n",
    "plt.plot(a[2],relative_errors_adcdt[\"c2_adcdt2s\"],'or',markersize=10)\n",
    "plt.plot(a[3],relative_errors_adcdt[\"c2_adcdt5s\"],'or',markersize=10)\n",
    "\n",
    "#plt.plot(a[0],c4_adcp5s,'ok',markersize=10)\n",
    "#plt.plot(a[1],c4_adc1s,'ok',markersize=10)\n",
    "#plt.plot(a[2],c4_adc2s,'ok',markersize=10)\n",
    "#plt.plot(a[3],c4_adc5s,'ok',markersize=10)\n",
    "\n",
    "\n",
    "plt.ylim(-0.1,0.1)\n",
    "\n",
    "plt.plot([0,10],[0,0],'-k')\n",
    "plt.xticks([2,4,6,8], ['adc-dt\\n0.5s', 'adc-dt\\n1s', 'adc-dt\\n2s','adc_dt\\n5s'],rotation=75,fontsize=14)\n",
    "plt.ylabel(\"$Relative$ $\\Delta PE$\",fontsize=14)\n",
    "#plt.xlabel(\"$Test$ $cases$\",fontsize=14)#plt.legend([\"1m\",\"2m\",\"5m\",\"10m\"])\n",
    "plt.xticks(fontsize=14)\n",
    "plt.yticks(fontsize=14)\n",
    "\n",
    "plt.subplot(122)\n",
    "\n",
    "a=2,4,6,8,10\n",
    "plt.plot(a[1],relative_errors_dt[\"c2_dt10min\"],'or',markersize=10)\n",
    "plt.plot(a[2],relative_errors_dt[\"c2_dt30min\"],'or',markersize=10)\n",
    "plt.plot(a[3],relative_errors_dt[\"c2_dt1hr\"],'or',markersize=10)\n",
    "plt.plot(a[4],relative_errors_dt[\"c2_dt2hr\"],'or',markersize=10)\n",
    "plt.plot(a[0],relative_errors_dt[\"c2_dt5min\"],'or',markersize=10)\n",
    "\n",
    "\n",
    "plt.ylim(-0.1,0.1)\n",
    "\n",
    "plt.plot([0,10],[0,0],'-k')\n",
    "plt.xticks([2,4,6,8,10], ['dt\\n5min','dt\\n10min', 'dt\\n30min', 'dt\\n1hr','dt\\n2hr'],rotation=75,fontsize=14)\n",
    "#plt.ylabel(\"$Relative$ $\\Delta PE$\",fontsize=14)\n",
    "#\n",
    "#plt.xlabel(\"$Test$ $cases$\",fontsize=14)#plt.legend([\"1m\",\"2m\",\"5m\",\"10m\"])\n",
    "plt.xticks(fontsize=14)\n",
    "plt.yticks(fontsize=14)"
   ]
  },
  {
   "cell_type": "code",
   "execution_count": null,
   "id": "e5fdc4b7",
   "metadata": {},
   "outputs": [],
   "source": []
  },
  {
   "cell_type": "code",
   "execution_count": null,
   "id": "11d581f6",
   "metadata": {},
   "outputs": [],
   "source": []
  },
  {
   "cell_type": "code",
   "execution_count": null,
   "id": "7c1ee547",
   "metadata": {},
   "outputs": [],
   "source": []
  }
 ],
 "metadata": {
  "kernelspec": {
   "display_name": "Python 3",
   "language": "python",
   "name": "python3"
  },
  "language_info": {
   "codemirror_mode": {
    "name": "ipython",
    "version": 3
   },
   "file_extension": ".py",
   "mimetype": "text/x-python",
   "name": "python",
   "nbconvert_exporter": "python",
   "pygments_lexer": "ipython3",
   "version": "3.9.5"
  }
 },
 "nbformat": 4,
 "nbformat_minor": 5
}
