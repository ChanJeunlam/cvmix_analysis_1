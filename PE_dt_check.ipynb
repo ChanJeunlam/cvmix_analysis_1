{
 "cells": [
  {
   "cell_type": "code",
   "execution_count": 32,
   "id": "236c1508",
   "metadata": {},
   "outputs": [],
   "source": [
    "import matplotlib.pyplot as plt # plotting\n",
    "import numpy as np              # working with number arrays etc.\n",
    "from netCDF4 import Dataset     # reading netcdf files\n",
    "from numpy import trapz         # for integration\n",
    "\n",
    "# all file paths: change according to file location\n",
    "path_les=\"/Users/amrapallig/run/cvmix_analysis/les/\"\n",
    "path_adc=\"/Users/amrapallig/Desktop/cvmix/adc/convection/\"\n",
    "path_kpp=\"/Users/amrapallig/run/cvmix_analysis/les/KPP-CVMix/\"\n",
    "path_ke=\"/Users/amrapallig/run/cvmix_analysis/les/K-EPSILON-SG/\""
   ]
  },
  {
   "cell_type": "code",
   "execution_count": 41,
   "id": "0014e1d2",
   "metadata": {},
   "outputs": [],
   "source": [
    "\n",
    "# density calculation from given temp and salinity\n",
    "def density_eos(t,s):\n",
    "    density= 1026.0*(1.0-2e-4*(t-20)+8e-4*(s-35))\n",
    "    return density\n",
    "\n",
    "#rate of change of depth integrated potential energy calculation\n",
    "def pot_energy2(temperature_0,temperature_t,salinity_0,salinity_t,depth,dtdz,dsdz,t=95):\n",
    "    ind=np.where((depth)>-75)  ##plots are weird with, 5 m doing worse than 10m if whole depth 100m is selected\n",
    "                                ## thats why I am taking depth till -75\n",
    "    depth=depth[ind]\n",
    "    #for initial time\n",
    "    \n",
    "    # defined initial profiles as data saved for les and adc are from 1 hr and \n",
    "    # for kpp and kepsilon are from zero hr\n",
    "    #temp=20+dtdz*depth\n",
    "    #salt=35+dsdz*depth \n",
    "    temp=temperature_0[ind]\n",
    "    salt=salinity_0[ind]\n",
    "    density= density_eos(temp,salt)\n",
    "    # depth integrated potential energy PE=density*9.81*depth\n",
    "    area=trapz(density*9.81*depth,depth)\n",
    "    PE_0=area\n",
    "    #print(PE_0)\n",
    "    \n",
    "    #for final time\n",
    "    temp=temperature_t[ind]\n",
    "    salt=salinity_t[ind]\n",
    "    density= density_eos(temp,salt)\n",
    "    plt.plot(density,depth)\n",
    "    plt.ylim(-20,0)\n",
    "    # depth integrated potential energy PE=density*9.81*depth\n",
    "    # area under PE\n",
    "    area=trapz(density*9.81*depth,depth)\n",
    "    PE_t=area\n",
    "    PE_rate_change=(PE_t-PE_0)/(3600*t)  # in Watt/m^2\n",
    "    #print(PE_t)\n",
    "    return (PE_rate_change)\n",
    "\n",
    " \n",
    "    "
   ]
  },
  {
   "cell_type": "code",
   "execution_count": null,
   "id": "a49e14e4",
   "metadata": {},
   "outputs": [],
   "source": []
  },
  {
   "cell_type": "code",
   "execution_count": 42,
   "id": "123eb903",
   "metadata": {},
   "outputs": [
    {
     "data": {
      "text/plain": [
       "{'pe_c2_les': 0.0001953385182117161}"
      ]
     },
     "execution_count": 42,
     "metadata": {},
     "output_type": "execute_result"
    },
    {
     "data": {
      "image/png": "[encoded data removed]",
      "text/plain": [
       "<Figure size 432x288 with 1 Axes>"
      ]
     },
     "metadata": {
      "needs_background": "light"
     },
     "output_type": "display_data"
    }
   ],
   "source": [
    "# time step\n",
    "t = 96  # as KPP and KE have 95 hrs of data stratibg from zero\n",
    "# range of time for averaging\n",
    "t1 = t-4\n",
    "\n",
    "# LES\n",
    "#path_les=\"/Users/amrapalli/runs/cvmix/cvmix_analysis/les/\"\n",
    "results_les = {}\n",
    "#vertical resolutions\n",
    "#datasets = [1, 2, 5, 10] \n",
    "# list comprehension\n",
    "#file_names = [*[f\"Cooling{x}\" for x in [1, 2, 4, 16]], \n",
    "#              *[f\"Evap{x}\" for x in [1, 4]],\n",
    "#              *[f\"Strat{x}\" for x in [1, 10, 20]],\n",
    "#              *[f\"T1S{x}\" for x in [0, 1, 3, 15]],\n",
    "#             ]\n",
    "\n",
    "# #file_names\n",
    "# for fn in file_names:\n",
    "#     les= Dataset(path_les+f'{fn}.nc', mode='r')\n",
    "\n",
    "# #         # compute pot\n",
    "    \n",
    "#     if \"Cooling\" in fn:\n",
    "#         fn = fn.replace(\"Cooling\", \"c\")\n",
    "#         dtdz=0.1; dsdz=0.0\n",
    "#     if \"Evap\" in fn:\n",
    "#         fn = fn.replace(\"Evap\", \"e\")\n",
    "#         dtdz=0.0; dsdz=-0.025\n",
    "#     if \"Strat\" in fn:\n",
    "#         fn = fn.replace(\"Strat\", \"s\")\n",
    "#         if \"10\" in fn:\n",
    "#             dtdz=0.1; dsdz=0.0\n",
    "#         elif \"1\" in fn:\n",
    "#             dtdz=0.01; dsdz=0.0\n",
    "#         elif \"20\" in fn:\n",
    "#             dtdz=0.2; dsdz=0.0\n",
    "#         else: \n",
    "#             print(\"error\")\n",
    "#     if \"T1S\" in fn:\n",
    "#         fn = fn.replace(\"T1S\", \"t1s\")\n",
    "#         dtdz=0.05; dsdz=-0.025\n",
    "#     #print(fn,dtdz,dsdz)\n",
    "les= Dataset(path_les+'Cooling2.nc', mode='r')\n",
    "\n",
    "results_les[\"pe_c2_les\"] = pot_energy2(les.variables[\"temp\"][0,:],\n",
    "                                              np.nanmean(les.variables[\"temp\"][t1:t,:],axis=0),\n",
    "                                              les.variables[\"salt\"][0,:],\n",
    "                                              np.nanmean(les.variables[\"salt\"][t1:t,:],axis=0),\n",
    "                                              les.variables['zm'][:],\n",
    "                                              dtdz=0.1,\n",
    "                                              dsdz=0.0)\n",
    "results_les"
   ]
  },
  {
   "cell_type": "code",
   "execution_count": 43,
   "id": "c2185954",
   "metadata": {},
   "outputs": [
    {
     "data": {
      "text/plain": [
       "{'pe_c2_adcdtp5s': 0.00019603140777445328,\n",
       " 'pe_c2_adcdt1s': 0.0001916139041841553,\n",
       " 'pe_c2_adcdt2s': 0.0001923507640345229,\n",
       " 'pe_c2_adcdt5s': 0.00019029621164483285}"
      ]
     },
     "execution_count": 43,
     "metadata": {},
     "output_type": "execute_result"
    },
    {
     "data": {
      "image/png": "[encoded data removed]",
      "text/plain": [
       "<Figure size 432x288 with 1 Axes>"
      ]
     },
     "metadata": {
      "needs_background": "light"
     },
     "output_type": "display_data"
    }
   ],
   "source": [
    "# ADC\n",
    "# time step\n",
    "t = 96  # as KPP and KE have 95 hrs of data stratibg from zero\n",
    "# range of time for averaging\n",
    "t1 = t-4\n",
    "path_adc=\"/Users/amrapallig/run/cvmix_test/forward/output/convection/time_sensitivity/\"\n",
    "results_adc_c2_adcdt = {}\n",
    "\n",
    "#resolutions = [1, 2, 5, 10]\n",
    "#resolutions = [10]\n",
    "#file_names = [\"c1\", \"c2\", \"c4\", \"c16\", \n",
    "#              \"e1\", \"e4\", \n",
    "#              \"s1\", \"s10\", \"s20\", \n",
    "#              \"t1s0\", \"t1s1\", \"t1s3\", \"t1s15\"]\n",
    "file_names_adcdt = [\"p5s\",\"1s\",\"2s\",\"5s\"]\n",
    "#file_names_dt = [\"5min\",\"10min\",\"30min\",\"1hr\",\"2hr\"]\n",
    "for fn in file_names_adcdt:  \n",
    "        mf = Dataset(path_adc+f'adcTurbulenceArrays_c2_1m_adcdt{fn}_dt1hr.nc', mode='r')  \n",
    "        fh = Dataset(path_adc+f'output.0001-01-01_00.00_c2_1m_adcdt{fn}_dt1hr.nc', mode='r')\n",
    "        dtdz=0.1; dsdz=0.0 #for c2\n",
    "       \n",
    "                         \n",
    "        # compute pot\n",
    "        results_adc_c2_adcdt[f\"pe_c2_adcdt{fn}\"] = pot_energy2(mf.variables[\"temperature\"][0,0,:],\n",
    "                                                   np.nanmean(mf.variables[\"temperature\"][t1:t,0,:],axis=0),\n",
    "                                                   mf.variables[\"salinity\"][0,0,:],\n",
    "                                                  np.nanmean(mf.variables[\"salinity\"][t1:t,0,:],axis=0),\n",
    "                                                  fh.variables['zMid'][0,0,:],\n",
    "                                                  dtdz,\n",
    "                                                  dsdz)\n",
    "results_adc_c2_adcdt\n"
   ]
  },
  {
   "cell_type": "code",
   "execution_count": 44,
   "id": "59f3efc3",
   "metadata": {},
   "outputs": [
    {
     "data": {
      "text/plain": [
       "{'c2_adcdtp5s': -0.0035471220375808423,\n",
       " 'c2_adcdt1s': 0.019067483779742433,\n",
       " 'c2_adcdt2s': 0.015295263855513467,\n",
       " 'c2_adcdt5s': 0.025813170966200297}"
      ]
     },
     "execution_count": 44,
     "metadata": {},
     "output_type": "execute_result"
    }
   ],
   "source": [
    "relative_errors_adcdt = {}\n",
    "\n",
    "file_names_adcdt = [\"p5s\",\"1s\",\"2s\",\"5s\"]\n",
    "for fn in file_names_adcdt:\n",
    "    numerator = results_les[\"pe_c2_les\"] - results_adc_c2_adcdt[f\"pe_c2_adcdt{fn}\"]\n",
    "    relative_errors_adcdt[f\"c2_adcdt{fn}\"] = numerator/results_les[\"pe_c2_les\"]\n",
    "        \n",
    "relative_errors_adcdt\n"
   ]
  },
  {
   "cell_type": "code",
   "execution_count": 45,
   "id": "b296dcb1",
   "metadata": {},
   "outputs": [
    {
     "data": {
      "text/plain": [
       "{'pe_c2_dt5min': 0.00019029582397500327,\n",
       " 'pe_c2_dt10min': 0.0001904157867208559,\n",
       " 'pe_c2_dt30min': 0.00019089848975166243,\n",
       " 'pe_c2_dt1hr': 0.0001916139041841553,\n",
       " 'pe_c2_dt2hr': 0.0001928204393548052}"
      ]
     },
     "execution_count": 45,
     "metadata": {},
     "output_type": "execute_result"
    },
    {
     "data": {
      "image/png": "[encoded data removed]",
      "text/plain": [
       "<Figure size 432x288 with 1 Axes>"
      ]
     },
     "metadata": {
      "needs_background": "light"
     },
     "output_type": "display_data"
    }
   ],
   "source": [
    "# ADC\n",
    "path_adc=\"/Users/amrapallig/run/cvmix_test/forward/output/convection/time_sensitivity/\"\n",
    "results_adc_c2_dt = {}\n",
    "\n",
    "#resolutions = [1, 2, 5, 10]\n",
    "#resolutions = [10]\n",
    "#file_names = [\"c1\", \"c2\", \"c4\", \"c16\", \n",
    "#              \"e1\", \"e4\", \n",
    "#              \"s1\", \"s10\", \"s20\", \n",
    "#              \"t1s0\", \"t1s1\", \"t1s3\", \"t1s15\"]\n",
    "#file_names_adcdt = [\"p5s\",\"1s\",\"2s\",\"5s\"]\n",
    "file_names_dt = [\"5min\",\"10min\",\"30min\",\"1hr\",\"2hr\"]\n",
    "for fn in file_names_dt:  \n",
    "        mf = Dataset(path_adc+f'adcTurbulenceArrays_c2_1m_adcdt1s_dt{fn}.nc', mode='r')  \n",
    "        fh = Dataset(path_adc+f'output.0001-01-01_00.00_c2_1m_adcdt1s_dt{fn}.nc', mode='r')\n",
    "        dtdz=0.1; dsdz=0.0 #for c2\n",
    "        \n",
    "        if fn==\"1hr\":\n",
    "            t=96; t1=t-4                 #1hr\n",
    "        if fn==\"2hr\":\n",
    "            t=int(96/2); t1=t-int(4/2)   #2hr\n",
    "        if fn==\"30min\":\n",
    "            t=int(96*2); t1=t-int(4*2)   #30min\n",
    "        if fn==\"10min\":\n",
    "            t=int(96*6); t1=t-int(4*6)   #10min\n",
    "        if fn==\"5min\":\n",
    "            t=int(96*12); t1=t-int(4*12)  #5minmin\n",
    "        \n",
    "        # compute pot\n",
    "        results_adc_c2_dt[f\"pe_c2_dt{fn}\"] = pot_energy2(mf.variables[\"temperature\"][0,0,:],\n",
    "                                                   np.nanmean(mf.variables[\"temperature\"][t1:t,0,:],axis=0),\n",
    "                                                   mf.variables[\"salinity\"][0,0,:],\n",
    "                                                  np.nanmean(mf.variables[\"salinity\"][t1:t,0,:],axis=0),\n",
    "                                                  fh.variables['zMid'][0,0,:],\n",
    "                                                  dtdz,\n",
    "                                                  dsdz)\n",
    "results_adc_c2_dt"
   ]
  },
  {
   "cell_type": "code",
   "execution_count": 46,
   "id": "8b92c020",
   "metadata": {},
   "outputs": [
    {
     "data": {
      "text/plain": [
       "{'c2_dt5min': 0.025815155571352093,\n",
       " 'c2_dt10min': 0.02520102812249629,\n",
       " 'c2_dt30min': 0.02272991778939058,\n",
       " 'c2_dt1hr': 0.019067483779742433,\n",
       " 'c2_dt2hr': 0.012890846515901703}"
      ]
     },
     "execution_count": 46,
     "metadata": {},
     "output_type": "execute_result"
    }
   ],
   "source": [
    "relative_errors_dt = {}\n",
    "\n",
    "file_names_dt = [\"5min\",\"10min\",\"30min\",\"1hr\",\"2hr\"]\n",
    "for fn in file_names_dt:\n",
    "    numerator = results_les[\"pe_c2_les\"] - results_adc_c2_dt[f\"pe_c2_dt{fn}\"]\n",
    "    relative_errors_dt[f\"c2_dt{fn}\"] = numerator/results_les[\"pe_c2_les\"]\n",
    "    \n",
    "    \n",
    "        \n",
    "relative_errors_dt\n"
   ]
  },
  {
   "cell_type": "code",
   "execution_count": 47,
   "id": "568e99bf",
   "metadata": {},
   "outputs": [
    {
     "data": {
      "text/plain": [
       "{'c2_dt5min': 0.025815155571352093,\n",
       " 'c2_dt10min': 0.02520102812249629,\n",
       " 'c2_dt30min': 0.02272991778939058,\n",
       " 'c2_dt1hr': 0.019067483779742433,\n",
       " 'c2_dt2hr': 0.012890846515901703}"
      ]
     },
     "execution_count": 47,
     "metadata": {},
     "output_type": "execute_result"
    }
   ],
   "source": [
    "relative_errors_dt"
   ]
  },
  {
   "cell_type": "code",
   "execution_count": 48,
   "id": "6bfe4a28",
   "metadata": {},
   "outputs": [
    {
     "data": {
      "text/plain": [
       "(array([-0.1  , -0.075, -0.05 , -0.025,  0.   ,  0.025,  0.05 ,  0.075,\n",
       "         0.1  ]),\n",
       " [Text(0, 0, ''),\n",
       "  Text(0, 0, ''),\n",
       "  Text(0, 0, ''),\n",
       "  Text(0, 0, ''),\n",
       "  Text(0, 0, ''),\n",
       "  Text(0, 0, ''),\n",
       "  Text(0, 0, ''),\n",
       "  Text(0, 0, ''),\n",
       "  Text(0, 0, '')])"
      ]
     },
     "execution_count": 48,
     "metadata": {},
     "output_type": "execute_result"
    },
    {
     "data": {
      "image/png": "[encoded data removed]",
      "text/plain": [
       "<Figure size 864x288 with 2 Axes>"
      ]
     },
     "metadata": {
      "needs_background": "light"
     },
     "output_type": "display_data"
    }
   ],
   "source": [
    "plt.figure(figsize=(12,4))\n",
    "plt.subplot(121)\n",
    "\n",
    "a=2,4,6,8\n",
    "plt.plot(a[0],relative_errors_adcdt[\"c2_adcdtp5s\"],'or',markersize=10)\n",
    "plt.plot(a[1],relative_errors_adcdt[\"c2_adcdt1s\"],'or',markersize=10)\n",
    "plt.plot(a[2],relative_errors_adcdt[\"c2_adcdt2s\"],'or',markersize=10)\n",
    "plt.plot(a[3],relative_errors_adcdt[\"c2_adcdt5s\"],'or',markersize=10)\n",
    "\n",
    "#plt.plot(a[0],c4_adcp5s,'ok',markersize=10)\n",
    "#plt.plot(a[1],c4_adc1s,'ok',markersize=10)\n",
    "#plt.plot(a[2],c4_adc2s,'ok',markersize=10)\n",
    "#plt.plot(a[3],c4_adc5s,'ok',markersize=10)\n",
    "\n",
    "\n",
    "plt.ylim(-0.1,0.1)\n",
    "\n",
    "plt.plot([0,10],[0,0],'-k')\n",
    "plt.xticks([2,4,6,8], ['adc-dt\\n0.5s', 'adc-dt\\n1s', 'adc-dt\\n2s','adc_dt\\n5s'],rotation=75,fontsize=14)\n",
    "plt.ylabel(\"$Relative$ $\\Delta PE$\",fontsize=14)\n",
    "#plt.xlabel(\"$Test$ $cases$\",fontsize=14)#plt.legend([\"1m\",\"2m\",\"5m\",\"10m\"])\n",
    "plt.xticks(fontsize=14)\n",
    "plt.yticks(fontsize=14)\n",
    "\n",
    "plt.subplot(122)\n",
    "\n",
    "a=2,4,6,8,10\n",
    "plt.plot(a[1],relative_errors_dt[\"c2_dt10min\"],'or',markersize=10)\n",
    "plt.plot(a[2],relative_errors_dt[\"c2_dt30min\"],'or',markersize=10)\n",
    "plt.plot(a[3],relative_errors_dt[\"c2_dt1hr\"],'or',markersize=10)\n",
    "plt.plot(a[4],relative_errors_dt[\"c2_dt2hr\"],'or',markersize=10)\n",
    "plt.plot(a[0],relative_errors_dt[\"c2_dt5min\"],'or',markersize=10)\n",
    "\n",
    "\n",
    "plt.ylim(-0.1,0.1)\n",
    "\n",
    "plt.plot([0,12],[0,0],'-k')\n",
    "plt.xticks([2,4,6,8,10], ['dt\\n5min','dt\\n10min', 'dt\\n30min', 'dt\\n1hr','dt\\n2hr'],rotation=75,fontsize=14)\n",
    "#plt.ylabel(\"$Relative$ $\\Delta PE$\",fontsize=14)\n",
    "#\n",
    "#plt.xlabel(\"$Test$ $cases$\",fontsize=14)#plt.legend([\"1m\",\"2m\",\"5m\",\"10m\"])\n",
    "plt.xticks(fontsize=14)\n",
    "plt.yticks(fontsize=14)"
   ]
  },
  {
   "cell_type": "code",
   "execution_count": null,
   "id": "e5fdc4b7",
   "metadata": {},
   "outputs": [],
   "source": [
    "#results_les_maxN2 = {}\n",
    "#les= Dataset(path_les+'Cooling2.nc', mode='r')\n",
    "#results_les[\"pe_c2_les\"] = bld_max_N2(les.variables[\"temp\"][:,:],les.variables['zm'][:])\n",
    "\n",
    "#plt.plot(results_les[\"pe_c2_les\"])\n"
   ]
  },
  {
   "cell_type": "code",
   "execution_count": null,
   "id": "a58e0d87",
   "metadata": {},
   "outputs": [],
   "source": []
  },
  {
   "cell_type": "code",
   "execution_count": null,
   "id": "702c2598",
   "metadata": {},
   "outputs": [],
   "source": []
  },
  {
   "cell_type": "code",
   "execution_count": null,
   "id": "0fdd8f1e",
   "metadata": {},
   "outputs": [],
   "source": [
    "######## alternative calculation"
   ]
  },
  {
   "cell_type": "code",
   "execution_count": null,
   "id": "d980d517",
   "metadata": {},
   "outputs": [],
   "source": []
  },
  {
   "cell_type": "code",
   "execution_count": null,
   "id": "938b557c",
   "metadata": {},
   "outputs": [],
   "source": []
  },
  {
   "cell_type": "code",
   "execution_count": 55,
   "id": "73f5e348",
   "metadata": {},
   "outputs": [],
   "source": [
    "# def bld_max_N2(temp,z,t):\n",
    "#     N2=np.gradient(temp[:-2,:],z,axis=1)\n",
    "#     bld=np.zeros(len(N2[:,0]))\n",
    "#     for i in np.arange(len(N2[:,0])):    \n",
    "#         indx=N2[i,:].argmax()\n",
    "#         bld[i]=z[indx]\n",
    "#     time=t[:-2]   \n",
    "#     return (bld,time) \n",
    "# les= Dataset(path_les+'Cooling2.nc', mode='r')\n",
    "#osbl_c2_les,osbl_c2_les_time=bld_max_N2(les.variables[\"temp\"][:,:],\n",
    "#                                        les.variables['zm'][:],\n",
    "#                                        les.variables['Time'][:])\n",
    "#plt.plot(osbl_c2_les_time,osbl_c2_les)"
   ]
  },
  {
   "cell_type": "code",
   "execution_count": 101,
   "id": "11206d92",
   "metadata": {},
   "outputs": [],
   "source": [
    "def bld_max_N2(temp,z):  #for timeseries\n",
    "    N2=np.gradient(temp[:-1,:],z,axis=1)\n",
    "    bld=np.zeros(len(N2[:,0]))\n",
    "    for i in np.arange(len(N2[:,0])):    \n",
    "        indx=N2[i,:].argmax()\n",
    "        bld[i]=z[indx]\n",
    "   \n",
    "    return (bld) "
   ]
  },
  {
   "cell_type": "code",
   "execution_count": 102,
   "id": "1ed805e4",
   "metadata": {},
   "outputs": [],
   "source": [
    "def bld_max_N2_2(temp,z):  #for particular time\n",
    "    N2=np.gradient(temp,z)\n",
    "    indx=N2.argmax()\n",
    "    bld=z[indx]\n",
    "    return (bld) "
   ]
  },
  {
   "cell_type": "code",
   "execution_count": 103,
   "id": "11a701b2",
   "metadata": {},
   "outputs": [
    {
     "data": {
      "text/plain": [
       "[<matplotlib.lines.Line2D at 0x7fead958d5b0>]"
      ]
     },
     "execution_count": 103,
     "metadata": {},
     "output_type": "execute_result"
    },
    {
     "data": {
      "image/png": "[encoded data removed]",
      "text/plain": [
       "<Figure size 432x288 with 1 Axes>"
      ]
     },
     "metadata": {
      "needs_background": "light"
     },
     "output_type": "display_data"
    }
   ],
   "source": [
    "les= Dataset(path_les+'Cooling2.nc', mode='r')\n",
    "osbl_c2_les=bld_max_N2(les.variables[\"temp\"][:,:],\n",
    "                                        les.variables['zm'][:])\n",
    "                                        \n",
    "plt.plot(osbl_c2_les)"
   ]
  },
  {
   "cell_type": "code",
   "execution_count": 115,
   "id": "11d581f6",
   "metadata": {},
   "outputs": [
    {
     "name": "stdout",
     "output_type": "stream",
     "text": [
      "(1441, 100)\n",
      "(721, 100)\n",
      "(241, 100)\n",
      "(121, 100)\n",
      "(61, 100)\n"
     ]
    }
   ],
   "source": [
    "osbl_les = {}\n",
    "osbl_les_timeseries = {}\n",
    "osbl_adcdt = {}\n",
    "osbl_dt = {}\n",
    "osbl_adcdt_timeseries = {}\n",
    "osbl_dt_timeseries = {}\n",
    "\n",
    "les= Dataset(path_les+'Cooling2.nc', mode='r')\n",
    "osbl_les_timeseries[\"osbl_c2\"]=bld_max_N2(les.variables[\"temp\"][:,:],\n",
    "                                        les.variables['zm'][:])\n",
    "\n",
    "t=96; t1=t-4 \n",
    "osbl_les[\"osbl_c2\"]=bld_max_N2_2(np.nanmean(les.variables[\"temp\"][t1:t,:],axis=0),\n",
    "                                        les.variables['zm'][:])\n",
    "\n",
    "file_names_adcdt = [\"p5s\",\"1s\",\"2s\",\"5s\"]\n",
    "file_names_dt = [\"5min\",\"10min\",\"30min\",\"1hr\",\"2hr\"]\n",
    "\n",
    "\n",
    "for fn in file_names_adcdt:  \n",
    "        mf = Dataset(path_adc+f'adcTurbulenceArrays_c2_1m_adcdt{fn}_dt1hr.nc', mode='r')  \n",
    "        fh = Dataset(path_adc+f'output.0001-01-01_00.00_c2_1m_adcdt{fn}_dt1hr.nc', mode='r')\n",
    "        osbl_adcdt_timeseries[f\"osbl_c2_adcdt_{fn}\"] = bld_max_N2(mf.variables[\"temperature\"][:,0,:],\n",
    "                                fh.variables['zMid'][0,0,:],)\n",
    "        t=96; t1=t-4 \n",
    "        osbl_adcdt[f\"osbl_c2_adcdt_{fn}\"] = bld_max_N2_2(np.nanmean(mf.variables[\"temperature\"][t1:t,0,:],axis=0),\n",
    "                                            fh.variables['zMid'][0,0,:])\n",
    "        \n",
    "path_adc=\"/Users/amrapallig/run/cvmix_test/forward/output/convection/time_sensitivity/\"                                                \n",
    "for fn in file_names_dt:  \n",
    "        mf = Dataset(path_adc+f'adcTurbulenceArrays_c2_1m_adcdt1s_dt{fn}.nc', mode='r')  \n",
    "        fh = Dataset(path_adc+f'output.0001-01-01_00.00_c2_1m_adcdt1s_dt{fn}.nc', mode='r')\n",
    "       \n",
    "        if fn==\"1hr\":\n",
    "            t=96; t1=t-4                 #1hr\n",
    "        if fn==\"2hr\":\n",
    "            t=int(96/2); t1=t-int(4/2)   #2hr\n",
    "        if fn==\"30min\":\n",
    "            t=int(96*2); t1=t-int(4*2)   #30min\n",
    "        if fn==\"10min\":\n",
    "            t=int(96*6); t1=t-int(4*6)   #10min\n",
    "        if fn==\"5min\":\n",
    "            t=int(96*12); t1=t-int(4*12) \n",
    "        \n",
    "        print(mf.variables[\"temperature\"][:,0,:].shape)\n",
    "        osbl_dt_timeseries[f\"osbl_c2_dt_{fn}\"] = bld_max_N2(mf.variables[\"temperature\"][:,0,:],\n",
    "                                fh.variables['zMid'][0,0,:])\n",
    " \n",
    "        osbl_dt[f\"osbl_c2_dt_{fn}\"] = bld_max_N2_2(np.nanmean(mf.variables[\"temperature\"][t1:t,0,:],axis=0),\n",
    "                                fh.variables['zMid'][0,0,:])\n",
    "        "
   ]
  },
  {
   "cell_type": "code",
   "execution_count": 139,
   "id": "63b60306",
   "metadata": {},
   "outputs": [
    {
     "data": {
      "text/plain": [
       "576"
      ]
     },
     "execution_count": 139,
     "metadata": {},
     "output_type": "execute_result"
    }
   ],
   "source": [
    "96*6"
   ]
  },
  {
   "cell_type": "code",
   "execution_count": 114,
   "id": "93357811",
   "metadata": {},
   "outputs": [
    {
     "data": {
      "text/plain": [
       "{'osbl_c2_dt_5min': -16.5,\n",
       " 'osbl_c2_dt_10min': -16.5,\n",
       " 'osbl_c2_dt_30min': -16.5,\n",
       " 'osbl_c2_dt_1hr': -16.5,\n",
       " 'osbl_c2_dt_2hr': -16.5}"
      ]
     },
     "execution_count": 114,
     "metadata": {},
     "output_type": "execute_result"
    }
   ],
   "source": [
    "osbl_dt\n"
   ]
  },
  {
   "cell_type": "code",
   "execution_count": 106,
   "id": "a6a7db10",
   "metadata": {},
   "outputs": [
    {
     "data": {
      "text/plain": [
       "{'osbl_c2_adcdt_p5s': -16.5,\n",
       " 'osbl_c2_adcdt_1s': -16.5,\n",
       " 'osbl_c2_adcdt_2s': -16.5,\n",
       " 'osbl_c2_adcdt_5s': -16.5}"
      ]
     },
     "execution_count": 106,
     "metadata": {},
     "output_type": "execute_result"
    }
   ],
   "source": [
    "osbl_adcdt"
   ]
  },
  {
   "cell_type": "code",
   "execution_count": 107,
   "id": "a84795ff",
   "metadata": {},
   "outputs": [
    {
     "data": {
      "text/plain": [
       "{'osbl_c2': -16.49266242980957}"
      ]
     },
     "execution_count": 107,
     "metadata": {},
     "output_type": "execute_result"
    }
   ],
   "source": [
    "osbl_les"
   ]
  },
  {
   "cell_type": "code",
   "execution_count": 108,
   "id": "39b8fcba",
   "metadata": {},
   "outputs": [],
   "source": [
    "relative_errors_dt = {}\n",
    "\n",
    "file_names_dt = [\"5min\",\"10min\",\"30min\",\"1hr\",\"2hr\"]\n",
    "for fn in file_names_dt:\n",
    "    numerator = osbl_les[\"osbl_c2\"] -  osbl_dt[f\"osbl_c2_dt_{fn}\"]\n",
    "    relative_errors_dt[f\"c2_dt{fn}\"] = (numerator/osbl_les[\"osbl_c2\"])\n",
    "    \n",
    "relative_errors_adcdt = {}\n",
    "\n",
    "file_names_adcdt = [\"p5s\",\"1s\",\"2s\",\"5s\"]\n",
    "for fn in file_names_adcdt:\n",
    "    numerator = osbl_les[\"osbl_c2\"] -  osbl_adcdt[f\"osbl_c2_adcdt_{fn}\"]\n",
    "    relative_errors_adcdt[f\"c2_adcdt{fn}\"] = (numerator/osbl_les[\"osbl_c2\"])\n",
    "    "
   ]
  },
  {
   "cell_type": "code",
   "execution_count": 109,
   "id": "c68a6f39",
   "metadata": {},
   "outputs": [
    {
     "data": {
      "text/plain": [
       "{'c2_dt5min': -0.0004448990708236068,\n",
       " 'c2_dt10min': -0.0004448990708236068,\n",
       " 'c2_dt30min': -0.0004448990708236068,\n",
       " 'c2_dt1hr': -0.0004448990708236068,\n",
       " 'c2_dt2hr': -0.0004448990708236068}"
      ]
     },
     "execution_count": 109,
     "metadata": {},
     "output_type": "execute_result"
    }
   ],
   "source": [
    "relative_errors_dt"
   ]
  },
  {
   "cell_type": "code",
   "execution_count": 110,
   "id": "781febe8",
   "metadata": {},
   "outputs": [
    {
     "data": {
      "text/plain": [
       "{'c2_adcdtp5s': -0.0004448990708236068,\n",
       " 'c2_adcdt1s': -0.0004448990708236068,\n",
       " 'c2_adcdt2s': -0.0004448990708236068,\n",
       " 'c2_adcdt5s': -0.0004448990708236068}"
      ]
     },
     "execution_count": 110,
     "metadata": {},
     "output_type": "execute_result"
    }
   ],
   "source": [
    "relative_errors_adcdt"
   ]
  },
  {
   "cell_type": "code",
   "execution_count": 111,
   "id": "186445f7",
   "metadata": {},
   "outputs": [
    {
     "data": {
      "text/plain": [
       "(array([-0.1  , -0.075, -0.05 , -0.025,  0.   ,  0.025,  0.05 ,  0.075,\n",
       "         0.1  ]),\n",
       " [Text(0, 0, ''),\n",
       "  Text(0, 0, ''),\n",
       "  Text(0, 0, ''),\n",
       "  Text(0, 0, ''),\n",
       "  Text(0, 0, ''),\n",
       "  Text(0, 0, ''),\n",
       "  Text(0, 0, ''),\n",
       "  Text(0, 0, ''),\n",
       "  Text(0, 0, '')])"
      ]
     },
     "execution_count": 111,
     "metadata": {},
     "output_type": "execute_result"
    },
    {
     "data": {
      "image/png": "[encoded data removed]",
      "text/plain": [
       "<Figure size 864x288 with 2 Axes>"
      ]
     },
     "metadata": {
      "needs_background": "light"
     },
     "output_type": "display_data"
    }
   ],
   "source": [
    "plt.figure(figsize=(12,4))\n",
    "plt.subplot(121)\n",
    "\n",
    "a=2,4,6,8\n",
    "plt.plot(a[0],relative_errors_adcdt[\"c2_adcdtp5s\"],'or',markersize=10)\n",
    "plt.plot(a[1],relative_errors_adcdt[\"c2_adcdt1s\"],'or',markersize=10)\n",
    "plt.plot(a[2],relative_errors_adcdt[\"c2_adcdt2s\"],'or',markersize=10)\n",
    "plt.plot(a[3],relative_errors_adcdt[\"c2_adcdt5s\"],'or',markersize=10)\n",
    "\n",
    "#plt.plot(a[0],c4_adcp5s,'ok',markersize=10)\n",
    "#plt.plot(a[1],c4_adc1s,'ok',markersize=10)\n",
    "#plt.plot(a[2],c4_adc2s,'ok',markersize=10)\n",
    "#plt.plot(a[3],c4_adc5s,'ok',markersize=10)\n",
    "\n",
    "\n",
    "plt.ylim(-0.1,0.1)\n",
    "\n",
    "plt.plot([0,10],[0,0],'-k')\n",
    "plt.xticks([2,4,6,8], ['adc-dt\\n0.5s', 'adc-dt\\n1s', 'adc-dt\\n2s','adc_dt\\n5s'],rotation=75,fontsize=14)\n",
    "plt.ylabel(\"Relative OSBL\",fontsize=14)\n",
    "#plt.xlabel(\"$Test$ $cases$\",fontsize=14)#plt.legend([\"1m\",\"2m\",\"5m\",\"10m\"])\n",
    "plt.xticks(fontsize=14)\n",
    "plt.yticks(fontsize=14)\n",
    "\n",
    "plt.subplot(122)\n",
    "\n",
    "a=2,4,6,8,10\n",
    "plt.plot(a[1],relative_errors_dt[\"c2_dt10min\"],'or',markersize=10)\n",
    "plt.plot(a[2],relative_errors_dt[\"c2_dt30min\"],'or',markersize=10)\n",
    "plt.plot(a[3],relative_errors_dt[\"c2_dt1hr\"],'or',markersize=10)\n",
    "plt.plot(a[4],relative_errors_dt[\"c2_dt2hr\"],'or',markersize=10)\n",
    "plt.plot(a[0],relative_errors_dt[\"c2_dt5min\"],'or',markersize=10)\n",
    "\n",
    "\n",
    "plt.ylim(-0.1,0.1)\n",
    "\n",
    "plt.plot([0,12],[0,0],'-k')\n",
    "plt.xticks([2,4,6,8,10], ['dt\\n5min','dt\\n10min', 'dt\\n30min', 'dt\\n1hr','dt\\n2hr'],rotation=75,fontsize=14)\n",
    "#plt.ylabel(\"$Relative$ $\\Delta PE$\",fontsize=14)\n",
    "#\n",
    "#plt.xlabel(\"$Test$ $cases$\",fontsize=14)#plt.legend([\"1m\",\"2m\",\"5m\",\"10m\"])\n",
    "plt.xticks(fontsize=14)\n",
    "plt.yticks(fontsize=14)"
   ]
  },
  {
   "cell_type": "code",
   "execution_count": 154,
   "id": "7c1ee547",
   "metadata": {},
   "outputs": [
    {
     "data": {
      "text/plain": [
       "Text(0.5, 0, '$Time$ $(hr)$ ')"
      ]
     },
     "execution_count": 154,
     "metadata": {},
     "output_type": "execute_result"
    },
    {
     "data": {
      "image/png": "[encoded data removed]",
      "text/plain": [
       "<Figure size 864x288 with 2 Axes>"
      ]
     },
     "metadata": {
      "needs_background": "light"
     },
     "output_type": "display_data"
    }
   ],
   "source": [
    "import matplotlib.pyplot as plt\n",
    "from mpl_toolkits.axes_grid1.inset_locator import inset_axes\n",
    "\n",
    "fig, (ax, ax2) = plt.subplots(1, 2, figsize=[12, 4])\n",
    "axins = inset_axes(ax, width=1.3, height=0.9)\n",
    "#plt.figure(figsize=(12,4))\n",
    "plt.subplot(121)\n",
    "\n",
    "\n",
    "plt.plot(osbl_les_timeseries[\"osbl_c2\"][:96],'k',linewidth=1.5)\n",
    "plt.plot(osbl_adcdt_timeseries[\"osbl_c2_adcdt_p5s\"][:96],'--r',linewidth=2.5)\n",
    "plt.plot(osbl_adcdt_timeseries[\"osbl_c2_adcdt_1s\"][:96],'--b',linewidth=2.5)\n",
    "plt.plot(osbl_adcdt_timeseries[\"osbl_c2_adcdt_2s\"][:96],'--c',linewidth=2.5)\n",
    "plt.plot(osbl_adcdt_timeseries[\"osbl_c2_adcdt_5s\"][:96],'--g',linewidth=2.5)\n",
    "\n",
    "#plt.xlabel('$Time$ $(hrs)$',fontsize=14)\n",
    "#plt.ylabel('$BLD$ $(m)$  $@ max(N^2)$',fontsize=14)\n",
    "plt.grid() \n",
    "plt.legend([\"LES\",\"adc-dt=$0.5$ s\",\"adc-dt=$1$ s\",\"adc-dt=$2$ s\",\"adc-dt=$5$ s\"], fontsize=14)\n",
    "plt.xticks(fontsize=14)\n",
    "plt.yticks(fontsize=14)\n",
    "plt.ylabel('$BLD$ $(m)$ ',fontsize=14)\n",
    "plt.xlabel('$Time$ $(hr)$ ',fontsize=14)\n",
    "\n",
    "\n",
    "plt.subplot(122)\n",
    "\n",
    "timeles=np.arange(len(osbl_les_timeseries[\"osbl_c2\"][:]))\n",
    "timeadc_1hr=np.arange(len(osbl_dt_timeseries[\"osbl_c2_dt_1hr\"]))\n",
    "timeadc_2hr=np.arange(len(osbl_dt_timeseries[\"osbl_c2_dt_2hr\"]))*2\n",
    "timeadc_30min=np.arange(len(osbl_dt_timeseries[\"osbl_c2_dt_30min\"]))/2\n",
    "timeadc_10min=np.arange(len(osbl_dt_timeseries[\"osbl_c2_dt_10min\"]))/6\n",
    "timeadc_5min=np.arange(len(osbl_dt_timeseries[\"osbl_c2_dt_5min\"]))/12\n",
    "\n",
    "\n",
    "plt.plot(timeles[1:95],osbl_les_timeseries[\"osbl_c2\"][1:95],'k',linewidth=1.5)\n",
    "plt.plot(timeadc_5min[2:95*12],osbl_dt_timeseries[\"osbl_c2_dt_5min\"][2:95*12],'--y',linewidth=2.5)\n",
    "plt.plot(timeadc_10min[1:95*6],osbl_dt_timeseries[\"osbl_c2_dt_10min\"][1:95*6],'--r',linewidth=2.5)\n",
    "plt.plot(timeadc_30min[1:95*2],osbl_dt_timeseries[\"osbl_c2_dt_30min\"][1:95*2],'--b',linewidth=2.5)\n",
    "plt.plot(timeadc_1hr[1:95],osbl_dt_timeseries[\"osbl_c2_dt_1hr\"][1:95],'--c',linewidth=2.5)\n",
    "plt.plot(timeadc_2hr[1:48],osbl_dt_timeseries[\"osbl_c2_dt_2hr\"][1:48],'--g',linewidth=2.5)\n",
    "\n",
    "#plt.xlabel('$Time$ $(hrs)$',fontsize=14)\n",
    "#plt.ylabel('$BLD$ $(m)$  $@ max(N^2)$',fontsize=14)\n",
    "plt.grid() \n",
    "plt.legend([\"LES\",\"dt=$5$ min\",\"dt=$10$ min\",\"dt=$30$ min\",\"dt=$1$ hr\",\"dt=$2$ hr\"], fontsize=14)\n",
    "plt.xticks(fontsize=14)\n",
    "plt.yticks(fontsize=14)\n",
    "#plt.ylabel('$BLD$ $(m)$ ',fontsize=14)\n",
    "plt.xlabel('$Time$ $(hr)$ ',fontsize=14)\n"
   ]
  },
  {
   "cell_type": "code",
   "execution_count": 124,
   "id": "595c5f6b",
   "metadata": {},
   "outputs": [
    {
     "data": {
      "text/plain": [
       "array([ 0,  1,  2,  3,  4,  5,  6,  7,  8,  9, 10, 11, 12, 13, 14, 15, 16,\n",
       "       17, 18, 19, 20, 21, 22, 23, 24, 25, 26, 27, 28, 29, 30, 31, 32, 33,\n",
       "       34, 35, 36, 37, 38, 39, 40, 41, 42, 43, 44, 45, 46, 47, 48, 49, 50,\n",
       "       51, 52, 53, 54, 55, 56, 57, 58, 59, 60, 61, 62, 63, 64, 65, 66, 67,\n",
       "       68, 69, 70, 71, 72, 73, 74, 75, 76, 77, 78, 79, 80, 81, 82, 83, 84,\n",
       "       85, 86, 87, 88, 89, 90, 91, 92, 93, 94])"
      ]
     },
     "execution_count": 124,
     "metadata": {},
     "output_type": "execute_result"
    }
   ],
   "source": [
    "timeadc_1hr[0:95]"
   ]
  },
  {
   "cell_type": "code",
   "execution_count": 123,
   "id": "5691b3b9",
   "metadata": {},
   "outputs": [
    {
     "data": {
      "text/plain": [
       "array([ 0,  2,  4,  6,  8, 10, 12, 14, 16, 18, 20, 22, 24, 26, 28, 30, 32,\n",
       "       34, 36, 38, 40, 42, 44, 46, 48, 50, 52, 54, 56, 58, 60, 62, 64, 66,\n",
       "       68, 70, 72, 74, 76, 78, 80, 82, 84, 86, 88, 90, 92, 94])"
      ]
     },
     "execution_count": 123,
     "metadata": {},
     "output_type": "execute_result"
    }
   ],
   "source": [
    "timeadc_2hr[0:48]"
   ]
  },
  {
   "cell_type": "code",
   "execution_count": 128,
   "id": "3d028983",
   "metadata": {},
   "outputs": [
    {
     "data": {
      "text/plain": [
       "array([ 0. ,  0.5,  1. ,  1.5,  2. ,  2.5,  3. ,  3.5,  4. ,  4.5,  5. ,\n",
       "        5.5,  6. ,  6.5,  7. ,  7.5,  8. ,  8.5,  9. ,  9.5, 10. , 10.5,\n",
       "       11. , 11.5, 12. , 12.5, 13. , 13.5, 14. , 14.5, 15. , 15.5, 16. ,\n",
       "       16.5, 17. , 17.5, 18. , 18.5, 19. , 19.5, 20. , 20.5, 21. , 21.5,\n",
       "       22. , 22.5, 23. , 23.5, 24. , 24.5, 25. , 25.5, 26. , 26.5, 27. ,\n",
       "       27.5, 28. , 28.5, 29. , 29.5, 30. , 30.5, 31. , 31.5, 32. , 32.5,\n",
       "       33. , 33.5, 34. , 34.5, 35. , 35.5, 36. , 36.5, 37. , 37.5, 38. ,\n",
       "       38.5, 39. , 39.5, 40. , 40.5, 41. , 41.5, 42. , 42.5, 43. , 43.5,\n",
       "       44. , 44.5, 45. , 45.5, 46. , 46.5, 47. , 47.5, 48. , 48.5, 49. ,\n",
       "       49.5, 50. , 50.5, 51. , 51.5, 52. , 52.5, 53. , 53.5, 54. , 54.5,\n",
       "       55. , 55.5, 56. , 56.5, 57. , 57.5, 58. , 58.5, 59. , 59.5, 60. ,\n",
       "       60.5, 61. , 61.5, 62. , 62.5, 63. , 63.5, 64. , 64.5, 65. , 65.5,\n",
       "       66. , 66.5, 67. , 67.5, 68. , 68.5, 69. , 69.5, 70. , 70.5, 71. ,\n",
       "       71.5, 72. , 72.5, 73. , 73.5, 74. , 74.5, 75. , 75.5, 76. , 76.5,\n",
       "       77. , 77.5, 78. , 78.5, 79. , 79.5, 80. , 80.5, 81. , 81.5, 82. ,\n",
       "       82.5, 83. , 83.5, 84. , 84.5, 85. , 85.5, 86. , 86.5, 87. , 87.5,\n",
       "       88. , 88.5, 89. , 89.5, 90. , 90.5, 91. , 91.5, 92. , 92.5, 93. ,\n",
       "       93.5, 94. , 94.5])"
      ]
     },
     "execution_count": 128,
     "metadata": {},
     "output_type": "execute_result"
    }
   ],
   "source": [
    "timeadc_30min[0:95*2]"
   ]
  }
 ],
 "metadata": {
  "kernelspec": {
   "display_name": "Python 3",
   "language": "python",
   "name": "python3"
  },
  "language_info": {
   "codemirror_mode": {
    "name": "ipython",
    "version": 3
   },
   "file_extension": ".py",
   "mimetype": "text/x-python",
   "name": "python",
   "nbconvert_exporter": "python",
   "pygments_lexer": "ipython3",
   "version": "3.9.5"
  }
 },
 "nbformat": 4,
 "nbformat_minor": 5
}
