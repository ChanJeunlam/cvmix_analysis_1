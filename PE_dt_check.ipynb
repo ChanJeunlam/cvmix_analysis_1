{
 "cells": [
  {
   "cell_type": "code",
   "execution_count": 34,
   "id": "236c1508",
   "metadata": {},
   "outputs": [],
   "source": [
    "import matplotlib.pyplot as plt # plotting\n",
    "import numpy as np              # working with number arrays etc.\n",
    "from netCDF4 import Dataset     # reading netcdf files\n",
    "from numpy import trapz         # for integration\n",
    "\n",
    "# all file paths: change according to file location\n",
    "path_les=\"/Users/amrapallig/run/cvmix_analysis/les/\"\n",
    "path_adc=\"/Users/amrapallig/Desktop/cvmix/adc/convection/\"\n",
    "path_kpp=\"/Users/amrapallig/run/cvmix_analysis/les/KPP-CVMix/\"\n",
    "path_ke=\"/Users/amrapallig/run/cvmix_analysis/les/K-EPSILON-SG/\""
   ]
  },
  {
   "cell_type": "code",
   "execution_count": 35,
   "id": "0014e1d2",
   "metadata": {},
   "outputs": [],
   "source": [
    "\n",
    "# density calculation from given temp and salinity\n",
    "def density_eos(t,s):\n",
    "    density= 1026.0*(1.0-2e-4*(t-20)+8e-4*(s-35))\n",
    "    return density\n",
    "\n",
    "\n",
    "#rate of change of depth integrated potential energy calculation\n",
    "def pot_energy2(temperature_0,temperature_t,salinity_0,salinity_t,depth,dtdz,dsdz,t=95):\n",
    "    \n",
    "     \n",
    "   # depth=np.append(-0.5,depth)\n",
    "    temp=20+dtdz*depth\n",
    "    salt=35+dsdz*depth\n",
    "    ind=np.where((depth)>=-100)  ##plots are weird with, 5 m doing worse than 10m if whole depth 100m is selected\n",
    "    salt=salt[ind]\n",
    "    temp=temp[ind]\n",
    "    depth=depth[ind]\n",
    "    density= density_eos(temp,salt)\n",
    "    # depth integrated potential energy PE=density*9.81*depth\n",
    "    area=trapz(density*9.81*depth,depth)\n",
    "    PE_0=area  #/(depth[0]-depth[-1])\n",
    "\n",
    "    \n",
    "    #for final time\n",
    "    #temp=temperature_t\n",
    "    #salt=salinity_t\n",
    "\n",
    "    temp=temperature_t[ind]\n",
    "    salt=salinity_t[ind]\n",
    "    density= density_eos(temp,salt)\n",
    "    #plt.plot(density,depth)\n",
    "    # depth integrated potential energy PE=density*9.81*depth\n",
    "    # area under PE\n",
    "    area=trapz(density*9.81*depth,depth)\n",
    "    PE_t=area  #/(depth[0]-depth[-1])\n",
    "    PE_rate_change=(PE_t-PE_0)/(3600*t)  # in Watt/m^2\n",
    "    #print(PE_t)\n",
    "    plt.plot(density,depth)\n",
    "\n",
    "    return (PE_rate_change)\n"
   ]
  },
  {
   "cell_type": "code",
   "execution_count": null,
   "id": "a49e14e4",
   "metadata": {},
   "outputs": [],
   "source": []
  },
  {
   "cell_type": "code",
   "execution_count": 36,
   "id": "123eb903",
   "metadata": {},
   "outputs": [
    {
     "data": {
      "text/plain": [
       "{'pe_c2_les': 0.00018287504878309037}"
      ]
     },
     "execution_count": 36,
     "metadata": {},
     "output_type": "execute_result"
    },
    {
     "data": {
      "image/png": "[encoded data removed]",
      "text/plain": [
       "<Figure size 432x288 with 1 Axes>"
      ]
     },
     "metadata": {
      "needs_background": "light"
     },
     "output_type": "display_data"
    }
   ],
   "source": [
    "# time step\n",
    "t = 96  # as KPP and KE have 95 hrs of data stratibg from zero\n",
    "# range of time for averaging\n",
    "t1 = t-12\n",
    "\n",
    "results_les = {}\n",
    "les= Dataset(path_les+'Cooling2.nc', mode='r')\n",
    "results_les[\"pe_c2_les\"] = pot_energy2(les.variables[\"temp\"][0,:],\n",
    "                                              np.nanmean(les.variables[\"temp\"][t1:t,:],axis=0),\n",
    "                                              les.variables[\"salt\"][0,:],\n",
    "                                              np.nanmean(les.variables[\"salt\"][t1:t,:],axis=0),\n",
    "                                              les.variables['zm'][:],\n",
    "                                              dtdz=0.1,\n",
    "                                              dsdz=0.0)\n",
    "results_les"
   ]
  },
  {
   "cell_type": "code",
   "execution_count": 37,
   "id": "c2185954",
   "metadata": {},
   "outputs": [
    {
     "data": {
      "text/plain": [
       "{'pe_c2_adcdtp5s': 0.00015683913420428308,\n",
       " 'pe_c2_adcdt1s': 0.00016149166507417695,\n",
       " 'pe_c2_adcdt2s': 0.00016714914587506076,\n",
       " 'pe_c2_adcdt5s': 0.0001627065700353586}"
      ]
     },
     "execution_count": 37,
     "metadata": {},
     "output_type": "execute_result"
    },
    {
     "data": {
      "image/png": "[encoded data removed]",
      "text/plain": [
       "<Figure size 432x288 with 1 Axes>"
      ]
     },
     "metadata": {
      "needs_background": "light"
     },
     "output_type": "display_data"
    }
   ],
   "source": [
    "# ADC\n",
    "# time step\n",
    "t = 96  # as KPP and KE have 95 hrs of data stratibg from zero\n",
    "# range of time for averaging\n",
    "t1 = t-12\n",
    "path_adc=\"/Users/amrapallig/run/cvmix_test/forward/output/convection/time_sensitivity/\"\n",
    "results_adc_c2_adcdt = {}\n",
    "\n",
    "\n",
    "file_names_adcdt = [\"p5s\",\"1s\",\"2s\",\"5s\"]\n",
    "\n",
    "for fn in file_names_adcdt:  \n",
    "        mf = Dataset(path_adc+f'adcTurbulenceArrays_c2_1m_adcdt{fn}_dt1hr.nc', mode='r')  \n",
    "        fh = Dataset(path_adc+f'output.0001-01-01_00.00_c2_1m_adcdt{fn}_dt1hr.nc', mode='r')\n",
    "        dtdz=0.1; dsdz=0.0 #for c2\n",
    "       \n",
    "                         \n",
    "        # compute pot\n",
    "        results_adc_c2_adcdt[f\"pe_c2_adcdt{fn}\"] = pot_energy2(mf.variables[\"temperature\"][0,0,:],\n",
    "                                                   np.nanmean(mf.variables[\"temperature\"][t1:t,0,:],axis=0),\n",
    "                                                   mf.variables[\"salinity\"][0,0,:],\n",
    "                                                  np.nanmean(mf.variables[\"salinity\"][t1:t,0,:],axis=0),\n",
    "                                                  fh.variables['zMid'][0,0,:],\n",
    "                                                  dtdz,\n",
    "                                                  dsdz)\n",
    "results_adc_c2_adcdt\n"
   ]
  },
  {
   "cell_type": "code",
   "execution_count": 38,
   "id": "59f3efc3",
   "metadata": {},
   "outputs": [
    {
     "data": {
      "text/plain": [
       "{'c2_adcdtp5s': -0.14236996655398684,\n",
       " 'c2_adcdt1s': -0.11692892962274165,\n",
       " 'c2_adcdt2s': -0.08599261087105566,\n",
       " 'c2_adcdt5s': -0.11028556865433167}"
      ]
     },
     "execution_count": 38,
     "metadata": {},
     "output_type": "execute_result"
    }
   ],
   "source": [
    "relative_errors_adcdt = {}\n",
    "\n",
    "file_names_adcdt = [\"p5s\",\"1s\",\"2s\",\"5s\"]\n",
    "for fn in file_names_adcdt:\n",
    "    numerator =  results_adc_c2_adcdt[f\"pe_c2_adcdt{fn}\"]-results_les[\"pe_c2_les\"] \n",
    "    relative_errors_adcdt[f\"c2_adcdt{fn}\"] = numerator/results_les[\"pe_c2_les\"]\n",
    "        \n",
    "relative_errors_adcdt\n"
   ]
  },
  {
   "cell_type": "code",
   "execution_count": 39,
   "id": "b296dcb1",
   "metadata": {},
   "outputs": [
    {
     "data": {
      "text/plain": [
       "{'pe_c2_dt5min': 0.00016942417667361727,\n",
       " 'pe_c2_dt10min': 0.00016954579010431528,\n",
       " 'pe_c2_dt30min': 0.00017003621315659837,\n",
       " 'pe_c2_dt1hr': 0.00017288265385997226,\n",
       " 'pe_c2_dt2hr': 0.00017432847919694164}"
      ]
     },
     "execution_count": 39,
     "metadata": {},
     "output_type": "execute_result"
    },
    {
     "data": {
      "image/png": "[encoded data removed]",
      "text/plain": [
       "<Figure size 432x288 with 1 Axes>"
      ]
     },
     "metadata": {
      "needs_background": "light"
     },
     "output_type": "display_data"
    }
   ],
   "source": [
    "# ADC\n",
    "path_adc=\"/Users/amrapallig/run/cvmix_test/forward/output/convection/time_sensitivity/\"\n",
    "results_adc_c2_dt = {}\n",
    "\n",
    "\n",
    "file_names_dt = [\"5min\",\"10min\",\"30min\",\"1hr\",\"2hr\"]\n",
    "for fn in file_names_dt:  \n",
    "        mf = Dataset(path_adc+f'adcTurbulenceArrays_c2_1m_adcdt1s_dt{fn}.nc', mode='r')  \n",
    "        fh = Dataset(path_adc+f'output.0001-01-01_00.00_c2_1m_adcdt1s_dt{fn}.nc', mode='r')\n",
    "        dtdz=0.1; dsdz=0.0 #for c2\n",
    "        \n",
    "        if fn==\"1hr\":\n",
    "            t=96; t1=t-4                 #1hr\n",
    "        if fn==\"2hr\":\n",
    "            t=int(96/2); t1=t-int(4/2)   #2hr\n",
    "        if fn==\"30min\":\n",
    "            t=int(96*2); t1=t-int(4*2)   #30min\n",
    "        if fn==\"10min\":\n",
    "            t=int(96*6); t1=t-int(4*6)   #10min\n",
    "        if fn==\"5min\":\n",
    "            t=int(96*12); t1=t-int(4*12)  #5minmin\n",
    "        \n",
    "        # compute pot\n",
    "        results_adc_c2_dt[f\"pe_c2_dt{fn}\"] = pot_energy2(mf.variables[\"temperature\"][0,0,:],\n",
    "                                                   np.nanmean(mf.variables[\"temperature\"][t1:t,0,:],axis=0),\n",
    "                                                   mf.variables[\"salinity\"][0,0,:],\n",
    "                                                  np.nanmean(mf.variables[\"salinity\"][t1:t,0,:],axis=0),\n",
    "                                                  fh.variables['zMid'][0,0,:],\n",
    "                                                  dtdz,\n",
    "                                                  dsdz)\n",
    "results_adc_c2_dt"
   ]
  },
  {
   "cell_type": "code",
   "execution_count": 40,
   "id": "8b92c020",
   "metadata": {},
   "outputs": [
    {
     "data": {
      "text/plain": [
       "{'c2_dt5min': -0.07355225438888217,\n",
       " 'c2_dt10min': -0.07288724605938471,\n",
       " 'c2_dt30min': -0.07020550759617436,\n",
       " 'c2_dt1hr': -0.05464055916654972,\n",
       " 'c2_dt2hr': -0.04673447604263332}"
      ]
     },
     "execution_count": 40,
     "metadata": {},
     "output_type": "execute_result"
    }
   ],
   "source": [
    "relative_errors_dt = {}\n",
    "\n",
    "file_names_dt = [\"5min\",\"10min\",\"30min\",\"1hr\",\"2hr\"]\n",
    "for fn in file_names_dt:\n",
    "    numerator = results_adc_c2_dt[f\"pe_c2_dt{fn}\"]-results_les[\"pe_c2_les\"] \n",
    "    relative_errors_dt[f\"c2_dt{fn}\"] = numerator/results_les[\"pe_c2_les\"]\n",
    "    \n",
    "    \n",
    "        \n",
    "relative_errors_dt\n"
   ]
  },
  {
   "cell_type": "code",
   "execution_count": 41,
   "id": "568e99bf",
   "metadata": {},
   "outputs": [
    {
     "data": {
      "text/plain": [
       "{'c2_dt5min': -0.07355225438888217,\n",
       " 'c2_dt10min': -0.07288724605938471,\n",
       " 'c2_dt30min': -0.07020550759617436,\n",
       " 'c2_dt1hr': -0.05464055916654972,\n",
       " 'c2_dt2hr': -0.04673447604263332}"
      ]
     },
     "execution_count": 41,
     "metadata": {},
     "output_type": "execute_result"
    }
   ],
   "source": [
    "relative_errors_dt"
   ]
  },
  {
   "cell_type": "code",
   "execution_count": 42,
   "id": "6bfe4a28",
   "metadata": {},
   "outputs": [
    {
     "data": {
      "text/plain": [
       "Text(10, -0.75, '(b)')"
      ]
     },
     "execution_count": 42,
     "metadata": {},
     "output_type": "execute_result"
    },
    {
     "data": {
      "image/png": "[encoded data removed]",
      "text/plain": [
       "<Figure size 864x288 with 2 Axes>"
      ]
     },
     "metadata": {
      "needs_background": "light"
     },
     "output_type": "display_data"
    }
   ],
   "source": [
    "plt.figure(figsize=(12,4))\n",
    "plt.subplot(121)\n",
    "\n",
    "a=2,4,6,8\n",
    "plt.plot(a[0],relative_errors_adcdt[\"c2_adcdtp5s\"],'or',markersize=10)\n",
    "plt.plot(a[1],relative_errors_adcdt[\"c2_adcdt1s\"],'or',markersize=10)\n",
    "plt.plot(a[2],relative_errors_adcdt[\"c2_adcdt2s\"],'or',markersize=10)\n",
    "plt.plot(a[3],relative_errors_adcdt[\"c2_adcdt5s\"],'or',markersize=10)\n",
    "\n",
    "#plt.plot(a[0],c4_adcp5s,'ok',markersize=10)\n",
    "#plt.plot(a[1],c4_adc1s,'ok',markersize=10)\n",
    "#plt.plot(a[2],c4_adc2s,'ok',markersize=10)\n",
    "#plt.plot(a[3],c4_adc5s,'ok',markersize=10)\n",
    "\n",
    "plt.ylim(-1,1)\n",
    "\n",
    "plt.plot([0,10],[0,0],'-k')\n",
    "plt.xticks([2,4,6,8], ['adc-dt\\n0.5s', 'adc-dt\\n1s', 'adc-dt\\n2s','adc_dt\\n5s'],rotation=75,fontsize=14)\n",
    "plt.ylabel(\"$Relative$ $\\Delta PE$\",fontsize=14)\n",
    "#plt.xlabel(\"$Test$ $cases$\",fontsize=14)#plt.legend([\"1m\",\"2m\",\"5m\",\"10m\"])\n",
    "plt.xticks(fontsize=16)\n",
    "plt.yticks(fontsize=16)\n",
    "plt.text(8,-0.75,\"(a)\",fontsize=16)\n",
    "\n",
    "plt.subplot(122)\n",
    "\n",
    "a=2,4,6,8,10\n",
    "plt.plot(a[1],relative_errors_dt[\"c2_dt10min\"],'or',markersize=10)\n",
    "plt.plot(a[2],relative_errors_dt[\"c2_dt30min\"],'or',markersize=10)\n",
    "plt.plot(a[3],relative_errors_dt[\"c2_dt1hr\"],'or',markersize=10)\n",
    "plt.plot(a[4],relative_errors_dt[\"c2_dt2hr\"],'or',markersize=10)\n",
    "plt.plot(a[0],relative_errors_dt[\"c2_dt5min\"],'or',markersize=10)\n",
    "\n",
    "\n",
    "plt.ylim(-1,1)\n",
    "\n",
    "plt.plot([0,12],[0,0],'-k')\n",
    "plt.xticks([2,4,6,8,10], ['dt\\n5min','dt\\n10min', 'dt\\n30min', 'dt\\n1hr','dt\\n2hr'],rotation=75,fontsize=14)\n",
    "#plt.ylabel(\"$Relative$ $\\Delta PE$\",fontsize=14)\n",
    "#\n",
    "#plt.xlabel(\"$Test$ $cases$\",fontsize=14)#plt.legend([\"1m\",\"2m\",\"5m\",\"10m\"])\n",
    "plt.xticks(fontsize=16)\n",
    "plt.yticks(fontsize=16)\n",
    "plt.text(10,-0.75,\"(b)\",fontsize=16)\n"
   ]
  },
  {
   "cell_type": "code",
   "execution_count": 33,
   "id": "e5fdc4b7",
   "metadata": {},
   "outputs": [],
   "source": [
    "#results_les_maxN2 = {}\n",
    "#les= Dataset(path_les+'Cooling2.nc', mode='r')\n",
    "#results_les[\"pe_c2_les\"] = bld_max_N2(les.variables[\"temp\"][:,:],les.variables['zm'][:])\n",
    "\n",
    "#plt.plot(results_les[\"pe_c2_les\"])\n"
   ]
  },
  {
   "cell_type": "code",
   "execution_count": null,
   "id": "a58e0d87",
   "metadata": {},
   "outputs": [],
   "source": []
  },
  {
   "cell_type": "code",
   "execution_count": null,
   "id": "702c2598",
   "metadata": {},
   "outputs": [],
   "source": []
  },
  {
   "cell_type": "code",
   "execution_count": 11,
   "id": "0fdd8f1e",
   "metadata": {},
   "outputs": [],
   "source": [
    "######## alternative calculation"
   ]
  },
  {
   "cell_type": "code",
   "execution_count": null,
   "id": "d980d517",
   "metadata": {},
   "outputs": [],
   "source": []
  },
  {
   "cell_type": "code",
   "execution_count": null,
   "id": "938b557c",
   "metadata": {},
   "outputs": [],
   "source": []
  },
  {
   "cell_type": "code",
   "execution_count": 12,
   "id": "73f5e348",
   "metadata": {},
   "outputs": [],
   "source": [
    "# def bld_max_N2(temp,z,t):\n",
    "#     N2=np.gradient(temp[:-2,:],z,axis=1)\n",
    "#     bld=np.zeros(len(N2[:,0]))\n",
    "#     for i in np.arange(len(N2[:,0])):    \n",
    "#         indx=N2[i,:].argmax()\n",
    "#         bld[i]=z[indx]\n",
    "#     time=t[:-2]   \n",
    "#     return (bld,time) \n",
    "# les= Dataset(path_les+'Cooling2.nc', mode='r')\n",
    "#osbl_c2_les,osbl_c2_les_time=bld_max_N2(les.variables[\"temp\"][:,:],\n",
    "#                                        les.variables['zm'][:],\n",
    "#                                        les.variables['Time'][:])\n",
    "#plt.plot(osbl_c2_les_time,osbl_c2_les)"
   ]
  },
  {
   "cell_type": "code",
   "execution_count": 13,
   "id": "11206d92",
   "metadata": {},
   "outputs": [],
   "source": [
    "def bld_max_N2(temp,z):  #for timeseries\n",
    "    N2=np.gradient(temp[:-1,:],z,axis=1)\n",
    "    bld=np.zeros(len(N2[:,0]))\n",
    "    for i in np.arange(len(N2[:,0])):    \n",
    "        indx=N2[i,:].argmax()\n",
    "        bld[i]=z[indx]\n",
    "   \n",
    "    return (bld) "
   ]
  },
  {
   "cell_type": "code",
   "execution_count": 14,
   "id": "1ed805e4",
   "metadata": {},
   "outputs": [],
   "source": [
    "def bld_max_N2_2(temp,z):  #for particular time\n",
    "    N2=np.gradient(temp,z)\n",
    "    indx=N2.argmax()\n",
    "    bld=z[indx]\n",
    "    return (bld) "
   ]
  },
  {
   "cell_type": "code",
   "execution_count": 15,
   "id": "11a701b2",
   "metadata": {},
   "outputs": [
    {
     "data": {
      "text/plain": [
       "[<matplotlib.lines.Line2D at 0x7f99f0706ee0>]"
      ]
     },
     "execution_count": 15,
     "metadata": {},
     "output_type": "execute_result"
    },
    {
     "data": {
      "image/png": "[encoded data removed]",
      "text/plain": [
       "<Figure size 432x288 with 1 Axes>"
      ]
     },
     "metadata": {
      "needs_background": "light"
     },
     "output_type": "display_data"
    }
   ],
   "source": [
    "les= Dataset(path_les+'Cooling2.nc', mode='r')\n",
    "osbl_c2_les=bld_max_N2(les.variables[\"temp\"][:,:],\n",
    "                                        les.variables['zm'][:])\n",
    "                                        \n",
    "plt.plot(osbl_c2_les)"
   ]
  },
  {
   "cell_type": "code",
   "execution_count": 16,
   "id": "11d581f6",
   "metadata": {},
   "outputs": [
    {
     "name": "stdout",
     "output_type": "stream",
     "text": [
      "(1441, 100)\n",
      "(721, 100)\n",
      "(241, 100)\n",
      "(121, 100)\n",
      "(61, 100)\n"
     ]
    }
   ],
   "source": [
    "osbl_les = {}\n",
    "osbl_les_timeseries = {}\n",
    "osbl_adcdt = {}\n",
    "osbl_dt = {}\n",
    "osbl_adcdt_timeseries = {}\n",
    "osbl_dt_timeseries = {}\n",
    "\n",
    "les= Dataset(path_les+'Cooling2.nc', mode='r')\n",
    "osbl_les_timeseries[\"osbl_c2\"]=bld_max_N2(les.variables[\"temp\"][:,:],\n",
    "                                        les.variables['zm'][:])\n",
    "\n",
    "t=96; t1=t-4 \n",
    "osbl_les[\"osbl_c2\"]=bld_max_N2_2(np.nanmean(les.variables[\"temp\"][t1:t,:],axis=0),\n",
    "                                        les.variables['zm'][:])\n",
    "\n",
    "file_names_adcdt = [\"p5s\",\"1s\",\"2s\",\"5s\"]\n",
    "file_names_dt = [\"5min\",\"10min\",\"30min\",\"1hr\",\"2hr\"]\n",
    "\n",
    "\n",
    "for fn in file_names_adcdt:  \n",
    "        mf = Dataset(path_adc+f'adcTurbulenceArrays_c2_1m_adcdt{fn}_dt1hr.nc', mode='r')  \n",
    "        fh = Dataset(path_adc+f'output.0001-01-01_00.00_c2_1m_adcdt{fn}_dt1hr.nc', mode='r')\n",
    "        osbl_adcdt_timeseries[f\"osbl_c2_adcdt_{fn}\"] = bld_max_N2(mf.variables[\"temperature\"][:,0,:],\n",
    "                                fh.variables['zMid'][0,0,:],)\n",
    "        t=96; t1=t-4 \n",
    "        osbl_adcdt[f\"osbl_c2_adcdt_{fn}\"] = bld_max_N2_2(np.nanmean(mf.variables[\"temperature\"][t1:t,0,:],axis=0),\n",
    "                                            fh.variables['zMid'][0,0,:])\n",
    "        \n",
    "path_adc=\"/Users/amrapallig/run/cvmix_test/forward/output/convection/time_sensitivity/\"                                                \n",
    "for fn in file_names_dt:  \n",
    "        mf = Dataset(path_adc+f'adcTurbulenceArrays_c2_1m_adcdt1s_dt{fn}.nc', mode='r')  \n",
    "        fh = Dataset(path_adc+f'output.0001-01-01_00.00_c2_1m_adcdt1s_dt{fn}.nc', mode='r')\n",
    "       \n",
    "        if fn==\"1hr\":\n",
    "            t=96; t1=t-4                 #1hr\n",
    "        if fn==\"2hr\":\n",
    "            t=int(96/2); t1=t-int(4/2)   #2hr\n",
    "        if fn==\"30min\":\n",
    "            t=int(96*2); t1=t-int(4*2)   #30min\n",
    "        if fn==\"10min\":\n",
    "            t=int(96*6); t1=t-int(4*6)   #10min\n",
    "        if fn==\"5min\":\n",
    "            t=int(96*12); t1=t-int(4*12) \n",
    "        \n",
    "        print(mf.variables[\"temperature\"][:,0,:].shape)\n",
    "        osbl_dt_timeseries[f\"osbl_c2_dt_{fn}\"] = bld_max_N2(mf.variables[\"temperature\"][:,0,:],\n",
    "                                fh.variables['zMid'][0,0,:])\n",
    " \n",
    "        osbl_dt[f\"osbl_c2_dt_{fn}\"] = bld_max_N2_2(np.nanmean(mf.variables[\"temperature\"][t1:t,0,:],axis=0),\n",
    "                                fh.variables['zMid'][0,0,:])\n",
    "        "
   ]
  },
  {
   "cell_type": "code",
   "execution_count": 17,
   "id": "63b60306",
   "metadata": {},
   "outputs": [
    {
     "data": {
      "text/plain": [
       "576"
      ]
     },
     "execution_count": 17,
     "metadata": {},
     "output_type": "execute_result"
    }
   ],
   "source": [
    "96*6"
   ]
  },
  {
   "cell_type": "code",
   "execution_count": 18,
   "id": "93357811",
   "metadata": {},
   "outputs": [
    {
     "data": {
      "text/plain": [
       "{'osbl_c2_dt_5min': -16.5,\n",
       " 'osbl_c2_dt_10min': -16.5,\n",
       " 'osbl_c2_dt_30min': -16.5,\n",
       " 'osbl_c2_dt_1hr': -16.5,\n",
       " 'osbl_c2_dt_2hr': -16.5}"
      ]
     },
     "execution_count": 18,
     "metadata": {},
     "output_type": "execute_result"
    }
   ],
   "source": [
    "osbl_dt\n"
   ]
  },
  {
   "cell_type": "code",
   "execution_count": 19,
   "id": "a6a7db10",
   "metadata": {},
   "outputs": [
    {
     "data": {
      "text/plain": [
       "{'osbl_c2_adcdt_p5s': -16.5,\n",
       " 'osbl_c2_adcdt_1s': -16.5,\n",
       " 'osbl_c2_adcdt_2s': -16.5,\n",
       " 'osbl_c2_adcdt_5s': -16.5}"
      ]
     },
     "execution_count": 19,
     "metadata": {},
     "output_type": "execute_result"
    }
   ],
   "source": [
    "osbl_adcdt"
   ]
  },
  {
   "cell_type": "code",
   "execution_count": 20,
   "id": "a84795ff",
   "metadata": {},
   "outputs": [
    {
     "data": {
      "text/plain": [
       "{'osbl_c2': -16.49266242980957}"
      ]
     },
     "execution_count": 20,
     "metadata": {},
     "output_type": "execute_result"
    }
   ],
   "source": [
    "osbl_les"
   ]
  },
  {
   "cell_type": "code",
   "execution_count": 21,
   "id": "39b8fcba",
   "metadata": {},
   "outputs": [],
   "source": [
    "relative_errors_dt = {}\n",
    "\n",
    "file_names_dt = [\"5min\",\"10min\",\"30min\",\"1hr\",\"2hr\"]\n",
    "for fn in file_names_dt:\n",
    "    numerator =   osbl_dt[f\"osbl_c2_dt_{fn}\"]-osbl_les[\"osbl_c2\"]\n",
    "    relative_errors_dt[f\"c2_dt{fn}\"] = (numerator/osbl_les[\"osbl_c2\"])\n",
    "    \n",
    "relative_errors_adcdt = {}\n",
    "\n",
    "file_names_adcdt = [\"p5s\",\"1s\",\"2s\",\"5s\"]\n",
    "for fn in file_names_adcdt:\n",
    "    numerator =  osbl_adcdt[f\"osbl_c2_adcdt_{fn}\"]-osbl_les[\"osbl_c2\"]\n",
    "    relative_errors_adcdt[f\"c2_adcdt{fn}\"] = (numerator/osbl_les[\"osbl_c2\"])\n",
    "    "
   ]
  },
  {
   "cell_type": "code",
   "execution_count": 22,
   "id": "c68a6f39",
   "metadata": {},
   "outputs": [
    {
     "data": {
      "text/plain": [
       "{'c2_dt5min': 0.0004448990708236068,\n",
       " 'c2_dt10min': 0.0004448990708236068,\n",
       " 'c2_dt30min': 0.0004448990708236068,\n",
       " 'c2_dt1hr': 0.0004448990708236068,\n",
       " 'c2_dt2hr': 0.0004448990708236068}"
      ]
     },
     "execution_count": 22,
     "metadata": {},
     "output_type": "execute_result"
    }
   ],
   "source": [
    "relative_errors_dt"
   ]
  },
  {
   "cell_type": "code",
   "execution_count": 23,
   "id": "781febe8",
   "metadata": {},
   "outputs": [
    {
     "data": {
      "text/plain": [
       "{'c2_adcdtp5s': 0.0004448990708236068,\n",
       " 'c2_adcdt1s': 0.0004448990708236068,\n",
       " 'c2_adcdt2s': 0.0004448990708236068,\n",
       " 'c2_adcdt5s': 0.0004448990708236068}"
      ]
     },
     "execution_count": 23,
     "metadata": {},
     "output_type": "execute_result"
    }
   ],
   "source": [
    "relative_errors_adcdt"
   ]
  },
  {
   "cell_type": "code",
   "execution_count": 24,
   "id": "186445f7",
   "metadata": {},
   "outputs": [
    {
     "data": {
      "text/plain": [
       "(array([-0.1  , -0.075, -0.05 , -0.025,  0.   ,  0.025,  0.05 ,  0.075,\n",
       "         0.1  ]),\n",
       " [Text(0, 0, ''),\n",
       "  Text(0, 0, ''),\n",
       "  Text(0, 0, ''),\n",
       "  Text(0, 0, ''),\n",
       "  Text(0, 0, ''),\n",
       "  Text(0, 0, ''),\n",
       "  Text(0, 0, ''),\n",
       "  Text(0, 0, ''),\n",
       "  Text(0, 0, '')])"
      ]
     },
     "execution_count": 24,
     "metadata": {},
     "output_type": "execute_result"
    },
    {
     "data": {
      "image/png": "[encoded data removed]",
      "text/plain": [
       "<Figure size 864x288 with 2 Axes>"
      ]
     },
     "metadata": {
      "needs_background": "light"
     },
     "output_type": "display_data"
    }
   ],
   "source": [
    "plt.figure(figsize=(12,4))\n",
    "plt.subplot(121)\n",
    "\n",
    "a=2,4,6,8\n",
    "plt.plot(a[0],relative_errors_adcdt[\"c2_adcdtp5s\"],'or',markersize=10)\n",
    "plt.plot(a[1],relative_errors_adcdt[\"c2_adcdt1s\"],'or',markersize=10)\n",
    "plt.plot(a[2],relative_errors_adcdt[\"c2_adcdt2s\"],'or',markersize=10)\n",
    "plt.plot(a[3],relative_errors_adcdt[\"c2_adcdt5s\"],'or',markersize=10)\n",
    "\n",
    "#plt.plot(a[0],c4_adcp5s,'ok',markersize=10)\n",
    "#plt.plot(a[1],c4_adc1s,'ok',markersize=10)\n",
    "#plt.plot(a[2],c4_adc2s,'ok',markersize=10)\n",
    "#plt.plot(a[3],c4_adc5s,'ok',markersize=10)\n",
    "\n",
    "\n",
    "plt.ylim(-0.1,0.1)\n",
    "\n",
    "plt.plot([0,10],[0,0],'-k')\n",
    "plt.xticks([2,4,6,8], ['adc-dt\\n0.5s', 'adc-dt\\n1s', 'adc-dt\\n2s','adc_dt\\n5s'],rotation=75,fontsize=14)\n",
    "plt.ylabel(\"Relative OSBL\",fontsize=14)\n",
    "#plt.xlabel(\"$Test$ $cases$\",fontsize=14)#plt.legend([\"1m\",\"2m\",\"5m\",\"10m\"])\n",
    "plt.xticks(fontsize=14)\n",
    "plt.yticks(fontsize=14)\n",
    "\n",
    "plt.subplot(122)\n",
    "\n",
    "a=2,4,6,8,10\n",
    "plt.plot(a[1],relative_errors_dt[\"c2_dt10min\"],'or',markersize=10)\n",
    "plt.plot(a[2],relative_errors_dt[\"c2_dt30min\"],'or',markersize=10)\n",
    "plt.plot(a[3],relative_errors_dt[\"c2_dt1hr\"],'or',markersize=10)\n",
    "plt.plot(a[4],relative_errors_dt[\"c2_dt2hr\"],'or',markersize=10)\n",
    "plt.plot(a[0],relative_errors_dt[\"c2_dt5min\"],'or',markersize=10)\n",
    "\n",
    "\n",
    "plt.ylim(-0.1,0.1)\n",
    "\n",
    "plt.plot([0,12],[0,0],'-k')\n",
    "plt.xticks([2,4,6,8,10], ['dt\\n5min','dt\\n10min', 'dt\\n30min', 'dt\\n1hr','dt\\n2hr'],rotation=75,fontsize=14)\n",
    "#plt.ylabel(\"$Relative$ $\\Delta PE$\",fontsize=14)\n",
    "#\n",
    "#plt.xlabel(\"$Test$ $cases$\",fontsize=14)#plt.legend([\"1m\",\"2m\",\"5m\",\"10m\"])\n",
    "plt.xticks(fontsize=14)\n",
    "plt.yticks(fontsize=14)"
   ]
  },
  {
   "cell_type": "code",
   "execution_count": 25,
   "id": "7c1ee547",
   "metadata": {},
   "outputs": [
    {
     "data": {
      "text/plain": [
       "Text(20, -14, '(b)')"
      ]
     },
     "execution_count": 25,
     "metadata": {},
     "output_type": "execute_result"
    },
    {
     "data": {
      "image/png": "[encoded data removed]",
      "text/plain": [
       "<Figure size 864x288 with 2 Axes>"
      ]
     },
     "metadata": {
      "needs_background": "light"
     },
     "output_type": "display_data"
    }
   ],
   "source": [
    "import matplotlib.pyplot as plt\n",
    "from mpl_toolkits.axes_grid1.inset_locator import inset_axes\n",
    "\n",
    "fig, (ax, ax2) = plt.subplots(1, 2, figsize=[12, 4])\n",
    "axins = inset_axes(ax, width=1.3, height=0.9)\n",
    "#plt.figure(figsize=(12,4))\n",
    "plt.subplot(121)\n",
    "\n",
    "\n",
    "plt.plot(osbl_les_timeseries[\"osbl_c2\"][:96],'k',linewidth=1.5)\n",
    "plt.plot(osbl_adcdt_timeseries[\"osbl_c2_adcdt_p5s\"][:96],'--r',linewidth=2.5)\n",
    "plt.plot(osbl_adcdt_timeseries[\"osbl_c2_adcdt_1s\"][:96],'--b',linewidth=2.5)\n",
    "plt.plot(osbl_adcdt_timeseries[\"osbl_c2_adcdt_2s\"][:96],'--c',linewidth=2.5)\n",
    "plt.plot(osbl_adcdt_timeseries[\"osbl_c2_adcdt_5s\"][:96],'--g',linewidth=2.5)\n",
    "\n",
    "#plt.xlabel('$Time$ $(hrs)$',fontsize=14)\n",
    "#plt.ylabel('$BLD$ $(m)$  $@ max(N^2)$',fontsize=14)\n",
    "plt.grid() \n",
    "plt.legend([\"LES\",\"adc-dt=$0.5$ s\",\"adc-dt=$1$ s\",\"adc-dt=$2$ s\",\"adc-dt=$5$ s\"], fontsize=14)\n",
    "plt.xticks(fontsize=16)\n",
    "plt.yticks(fontsize=16)\n",
    "plt.ylabel('$BLD$ $(m)$ ',fontsize=16)\n",
    "plt.xlabel('$Time$ $(hr)$ ',fontsize=16)\n",
    "plt.text(20,-14,\"(a)\",fontsize=20)\n",
    "\n",
    "\n",
    "plt.subplot(122)\n",
    "\n",
    "timeles=np.arange(len(osbl_les_timeseries[\"osbl_c2\"][:]))\n",
    "timeadc_1hr=np.arange(len(osbl_dt_timeseries[\"osbl_c2_dt_1hr\"]))\n",
    "timeadc_2hr=np.arange(len(osbl_dt_timeseries[\"osbl_c2_dt_2hr\"]))*2\n",
    "timeadc_30min=np.arange(len(osbl_dt_timeseries[\"osbl_c2_dt_30min\"]))/2\n",
    "timeadc_10min=np.arange(len(osbl_dt_timeseries[\"osbl_c2_dt_10min\"]))/6\n",
    "timeadc_5min=np.arange(len(osbl_dt_timeseries[\"osbl_c2_dt_5min\"]))/12\n",
    "\n",
    "\n",
    "plt.plot(timeles[1:95],osbl_les_timeseries[\"osbl_c2\"][1:95],'k',linewidth=1.5)\n",
    "plt.plot(timeadc_5min[2:95*12],osbl_dt_timeseries[\"osbl_c2_dt_5min\"][2:95*12],'--y',linewidth=2.5)\n",
    "plt.plot(timeadc_10min[1:95*6],osbl_dt_timeseries[\"osbl_c2_dt_10min\"][1:95*6],'--r',linewidth=2.5)\n",
    "plt.plot(timeadc_30min[1:95*2],osbl_dt_timeseries[\"osbl_c2_dt_30min\"][1:95*2],'--b',linewidth=2.5)\n",
    "plt.plot(timeadc_1hr[1:95],osbl_dt_timeseries[\"osbl_c2_dt_1hr\"][1:95],'--c',linewidth=2.5)\n",
    "plt.plot(timeadc_2hr[1:48],osbl_dt_timeseries[\"osbl_c2_dt_2hr\"][1:48],'--g',linewidth=2.5)\n",
    "\n",
    "#plt.xlabel('$Time$ $(hrs)$',fontsize=14)\n",
    "#plt.ylabel('$BLD$ $(m)$  $@ max(N^2)$',fontsize=14)\n",
    "plt.grid() \n",
    "plt.legend([\"LES\",\"dt=$5$ min\",\"dt=$10$ min\",\"dt=$30$ min\",\"dt=$1$ hr\",\"dt=$2$ hr\"], fontsize=14)\n",
    "plt.xticks(fontsize=16)\n",
    "plt.yticks(fontsize=16)\n",
    "#plt.ylabel('$BLD$ $(m)$ ',fontsize=14)\n",
    "plt.xlabel('$Time$ $(hr)$ ',fontsize=16)\n",
    "plt.text(20,-14,\"(b)\",fontsize=20)\n"
   ]
  },
  {
   "cell_type": "code",
   "execution_count": null,
   "id": "595c5f6b",
   "metadata": {},
   "outputs": [],
   "source": [
    "timeadc_1hr[0:95]"
   ]
  },
  {
   "cell_type": "code",
   "execution_count": null,
   "id": "5691b3b9",
   "metadata": {},
   "outputs": [],
   "source": [
    "timeadc_2hr[0:48]"
   ]
  },
  {
   "cell_type": "code",
   "execution_count": null,
   "id": "3d028983",
   "metadata": {},
   "outputs": [],
   "source": [
    "timeadc_30min[0:95*2]"
   ]
  },
  {
   "cell_type": "code",
   "execution_count": null,
   "id": "85f55e76",
   "metadata": {},
   "outputs": [],
   "source": []
  },
  {
   "cell_type": "code",
   "execution_count": null,
   "id": "77094c2c",
   "metadata": {},
   "outputs": [],
   "source": []
  }
 ],
 "metadata": {
  "kernelspec": {
   "display_name": "Python 3",
   "language": "python",
   "name": "python3"
  },
  "language_info": {
   "codemirror_mode": {
    "name": "ipython",
    "version": 3
   },
   "file_extension": ".py",
   "mimetype": "text/x-python",
   "name": "python",
   "nbconvert_exporter": "python",
   "pygments_lexer": "ipython3",
   "version": "3.9.5"
  }
 },
 "nbformat": 4,
 "nbformat_minor": 5
}
